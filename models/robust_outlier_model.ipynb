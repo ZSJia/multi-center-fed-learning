{
 "cells": [
  {
   "cell_type": "code",
   "execution_count": 61,
   "metadata": {},
   "outputs": [
    {
     "name": "stdout",
     "output_type": "stream",
     "text": [
      "Overwriting outlkm_algor.py\n"
     ]
    }
   ],
   "source": [
    "%%writefile outlkm_algor.py\n",
    "import numpy as np\n",
    "import copy\n",
    "from scipy.spatial import distance\n",
    "from sklearn.cluster import KMeans\n",
    "\n",
    "class OutlierKmeansAlgor():\n",
    "    \n",
    "    def __init__(self, num_points, dimensions, num_clusters, max_iter, seed, init_type='random',\n",
    "                threshold_dis = 10., threshold_criterion = 0.01, \n",
    "                 max_no_improvement = 3, num_part_of_closest_points = 0.9,\n",
    "                percent_tosample = 0.25):\n",
    "        self.num_points = num_points\n",
    "        self.dimensions = dimensions\n",
    "        self.num_clusters = num_clusters\n",
    "        self.max_iter = max_iter\n",
    "        self.random_state = seed\n",
    "        self.init_type = init_type\n",
    "        self.threshold_dis = threshold_dis\n",
    "        self.threshold_criterion = threshold_criterion\n",
    "        self.max_no_improvement = max_no_improvement\n",
    "        self.num_part_of_closest_points = num_part_of_closest_points\n",
    "        self.percent_tosample = percent_tosample\n",
    "        self._lables = []\n",
    "        \n",
    "        self.labels_ = None\n",
    "        self.previous_centers = None\n",
    "        self.k_means = None\n",
    "        self.no_improvement = 0\n",
    "        self.finalized = False\n",
    "        \n",
    "    def fit(self, points):\n",
    "        all_points = copy.copy(points)\n",
    "        num_sample = np.int(np.floor((len(points) * self.percent_tosample)))\n",
    "        idx = np.random.randint(len(points), size = num_sample)\n",
    "        points = all_points[idx]\n",
    "        if self.k_means is None:\n",
    "            self.init_bige(points)\n",
    "            self.k_means = KMeans(init=self.init_type, n_clusters = self.num_clusters,\n",
    "                                 n_init=50,\n",
    "                                 max_iter = self.max_iter, random_state = self.random_state)\n",
    "            \n",
    "        \n",
    "        self.k_means.fit(points - self.big_E)\n",
    "        self.sovl_ol_problem(points)\n",
    "        centers = self.k_means.cluster_centers_\n",
    "        if self.previous_centers is not None:\n",
    "            delta =  centers - self.previous_centers\n",
    "            #print(\"delta :\", delta)\n",
    "            if np.sqrt(np.sum( (np.array(centers) - np.array(self.previous_centers)) ** 2 ))  < self.threshold_criterion:\n",
    "                #print(\"cluster center is not improving\")\n",
    "                self.no_improvement += 1\n",
    "            else:\n",
    "                self.no_improvement = 0\n",
    "        self.previous_centers = centers\n",
    "        self._lables = self.k_means.predict(all_points)\n",
    "        \n",
    "        #check if we stop earlier, invoker will have to decide fit or not\n",
    "        if self.no_improvement >= self.max_no_improvement:\n",
    "            self.finalized = True\n",
    "        \n",
    "        \n",
    "    def init_bige(self, points):\n",
    "        num_sample = len(points)\n",
    "        self.big_E = np.zeros((num_sample, self.dimensions))        \n",
    "        mu = np.mean(points, axis=0)\n",
    "        point_dis = np.apply_along_axis(lambda i: distance.euclidean(i, mu), 1, points)\n",
    "        copy_point_dis = copy.copy(point_dis)\n",
    "        copy_point_dis.sort()\n",
    "        # retrieve 90% closest elements \n",
    "        idx = np.int(np.floor(len(points) * self.num_part_of_closest_points))\n",
    "        init_out_of_clus_distance = copy_point_dis[idx]\n",
    "        for i in range(len(points)):\n",
    "            if point_dis[i] > init_out_of_clus_distance:\n",
    "                self.big_E[i] = points[i]\n",
    "            \n",
    "        return\n",
    "    \n",
    "    def sovl_ol_problem(self, points):\n",
    "        centers = self.k_means.cluster_centers_\n",
    "        kmeans_labels = self.k_means.labels_\n",
    "        for i in range(len(points)):\n",
    "            x_center = centers[kmeans_labels[i]]\n",
    "            temp_ei = np.array(points[i] - x_center)\n",
    "            term = max(0,  1- self.threshold_dis / max(0.01, distance.euclidean(points[i], x_center)) )\n",
    "            self.big_E[i] = temp_ei * term \n",
    "        return\n",
    "    \n",
    "    @property\n",
    "    def labels(self):\n",
    "        return self._lables\n",
    "    \n",
    "    @property\n",
    "    def get_all_members(self):\n",
    "        return {i: np.where(self._lables == i)[0] for i in range(self.num_clusters)}        \n",
    "    \n",
    "    \n",
    "        \n",
    " "
   ]
  },
  {
   "cell_type": "code",
   "execution_count": 20,
   "metadata": {},
   "outputs": [
    {
     "name": "stdout",
     "output_type": "stream",
     "text": [
      "[4 2 2 4 3 2 3 0 1 1 1 5 5 2 5 3 4 0 2 4 5 3 1 0 3 0 1 0 3 1 1 2 4 2 4 4 0\n",
      " 1 4 1 5 5 0 3 0 0 3 4 3 3 2 4 2 5 1 1 0 4 3 2 4 1 0 0 5 1 0 1 4 1 1 2 1 5\n",
      " 1 0 0 3 5 1 1 0 1 1 4 5 3 5 5 1 3 4 3 1 2 5 1 2 4 0 5 1 1 4 1 0 0 4 5 0 0\n",
      " 3 3 4 4 5 5 2 3 4 1 1 3 0 0 4 1 0 3 4 0 3 4 4 4 3 5 0 5 4 2 4 0 4 1 0 0 4\n",
      " 3 4 5 5 4 3 1 0 1 0 2 2 1 3 0 2 4 1 0 4 2 1 3 1 0 4 1 1 4 0 2 2 5 5 2 3 1\n",
      " 0 4 2 3 2 4 4 5 0 1 4 5 4 4 1 1 0 5 5 1 3 4 1 4 0 4 4 4 5 3 5 4 2 4 4 0 1\n",
      " 0 1 4 4 1 4 4 0 4 3 0 1 4 0 3 1 4 3 5 5 2 3 0 5 5 5 1 0 5 3 0 3 2 2 3 2 1\n",
      " 3 4 1 2 5 5 4 4 2 5 1 1 3 5 5 3 2 4 5 5 0 1 5 4 0 5 2 4 5 5 3 4 1 1 5 4 0\n",
      " 2 0 2 3]\n",
      "{0: array([  7,  17,  23,  25,  27,  36,  42,  44,  45,  56,  62,  63,  66,\n",
      "        75,  76,  81,  99, 105, 106, 109, 110, 123, 124, 127, 130, 137,\n",
      "       142, 145, 146, 155, 157, 162, 166, 172, 177, 185, 193, 201, 209,\n",
      "       220, 222, 229, 232, 235, 244, 249, 252, 279, 283, 295, 297]), 1: array([  8,   9,  10,  22,  26,  29,  30,  37,  39,  54,  55,  61,  65,\n",
      "        67,  69,  70,  72,  74,  79,  80,  82,  83,  89,  93,  96, 101,\n",
      "       102, 104, 120, 121, 126, 144, 154, 156, 160, 165, 169, 171, 174,\n",
      "       175, 184, 194, 199, 200, 204, 207, 221, 223, 226, 233, 237, 248,\n",
      "       258, 261, 269, 270, 280, 291, 292]), 2: array([  1,   2,   5,  13,  18,  31,  33,  50,  52,  59,  71,  94,  97,\n",
      "       117, 140, 158, 159, 163, 168, 178, 179, 182, 187, 189, 217, 242,\n",
      "       254, 255, 257, 262, 267, 275, 285, 296, 298]), 3: array([  4,   6,  15,  21,  24,  28,  43,  46,  48,  49,  58,  77,  86,\n",
      "        90,  92, 111, 112, 118, 122, 128, 131, 135, 148, 153, 161, 170,\n",
      "       183, 188, 205, 214, 231, 236, 239, 243, 251, 253, 256, 259, 271,\n",
      "       274, 289, 299]), 4: array([  0,   3,  16,  19,  32,  34,  35,  38,  47,  51,  57,  60,  68,\n",
      "        84,  91,  98, 103, 107, 113, 114, 119, 125, 129, 132, 133, 134,\n",
      "       139, 141, 143, 147, 149, 152, 164, 167, 173, 176, 186, 190, 191,\n",
      "       195, 197, 198, 206, 208, 210, 211, 212, 216, 218, 219, 224, 225,\n",
      "       227, 228, 230, 234, 238, 260, 265, 266, 276, 282, 286, 290, 294]), 5: array([ 11,  12,  14,  20,  40,  41,  53,  64,  73,  78,  85,  87,  88,\n",
      "        95, 100, 108, 115, 116, 136, 138, 150, 151, 180, 181, 192, 196,\n",
      "       202, 203, 213, 215, 240, 241, 245, 246, 247, 250, 263, 264, 268,\n",
      "       272, 273, 277, 278, 281, 284, 287, 288, 293])}\n"
     ]
    }
   ],
   "source": [
    "num_points = 300\n",
    "dimensions = 3\n",
    "points = np.random.normal(0, 2.0, [num_points, dimensions])\n",
    "\n",
    "km = OutlierKmeansAlgor(num_points, dimensions, num_clusters = 6, max_iter=5, \n",
    "                       seed = 9, init_type='random')\n",
    "\n",
    "for _ in range(100):\n",
    "    km.fit(points)\n",
    "    \n",
    "    if km.finalized:\n",
    "        break\n",
    "        \n",
    "print(km.labels)\n",
    "print(km.get_all_members)"
   ]
  },
  {
   "cell_type": "code",
   "execution_count": 11,
   "metadata": {},
   "outputs": [
    {
     "data": {
      "text/plain": [
       "array([ 0.06087221,  0.06128316,  0.12468871,  0.24159877,  0.43152687,\n",
       "        0.46168402,  0.54121157,  0.61967386,  0.63492762,  0.64293575,\n",
       "        0.65268139,  0.66778831,  0.67945163,  0.68636486,  0.71082072,\n",
       "        0.71449878,  0.71506985,  0.71637896,  0.73303502,  0.7339421 ,\n",
       "        0.73626944,  0.73678011,  0.74881855,  0.74982103,  0.76447073,\n",
       "        0.76581781,  0.76711718,  0.76725416,  0.77099318,  0.77688073,\n",
       "        0.77890105,  0.78176165,  0.78198048,  0.78472327,  0.78609219,\n",
       "        0.78852988,  0.7902714 ,  0.79120134,  0.79255316,  0.7942819 ,\n",
       "        0.79455972,  0.79545283,  0.79716552,  0.79832982,  0.80747635,\n",
       "        0.80993746,  0.81210792,  0.81586978,  0.81740711,  0.81869865])"
      ]
     },
     "execution_count": 11,
     "metadata": {},
     "output_type": "execute_result"
    }
   ],
   "source": [
    "import pandas as pd\n",
    "import numpy as np\n",
    "\n",
    "df = pd.read_json('metrics/femnist_ok_history.json')\n",
    "\n",
    "temp = df['micro-accuracy']\n",
    "fem_outkm_his = np.array(temp)\n",
    "fem_outkm_his.sort()\n",
    "fem_outkm_his\n",
    "\n"
   ]
  },
  {
   "cell_type": "code",
   "execution_count": 36,
   "metadata": {},
   "outputs": [
    {
     "data": {
      "text/plain": [
       "array([ 0.55488822,  0.63805741,  0.65865103,  0.663086  ,  0.66668929,\n",
       "        0.66898436,  0.69024842,  0.70608108,  0.70702118,  0.708009  ,\n",
       "        0.71453634,  0.7153804 ,  0.7177402 ,  0.71982265,  0.7255059 ,\n",
       "        0.72746746,  0.74243829,  0.75153535,  0.75580952,  0.7558835 ,\n",
       "        0.76464138,  0.77016063,  0.77110679,  0.77840909,  0.78200549,\n",
       "        0.79192547,  0.79983974,  0.80064143,  0.8034827 ,  0.80690253,\n",
       "        0.80887283,  0.81656467,  0.81703297,  0.81772152,  0.82965686,\n",
       "        0.84188948,  0.85212281,  0.86247723,  0.86263318,  0.86382022,\n",
       "        0.87185952,  0.87192699,  0.87521368,  0.87648084,  0.87820513,\n",
       "        0.88373358,  0.88687488,  0.89074074,  0.89139785,  1.        ])"
      ]
     },
     "execution_count": 36,
     "metadata": {},
     "output_type": "execute_result"
    }
   ],
   "source": [
    "import pandas as pd\n",
    "\n",
    "df = pd.read_json('metrics/celeba_ok_history.json')\n",
    "\n",
    "temp = df['micro-accuracy']\n",
    "cel_outkm_his = np.array(temp)\n",
    "cel_outkm_his.sort()\n",
    "cel_outkm_his"
   ]
  },
  {
   "cell_type": "code",
   "execution_count": 12,
   "metadata": {},
   "outputs": [
    {
     "data": {
      "text/plain": [
       "array([ 0.06198991,  0.06268872,  0.12813825,  0.23555961,  0.42804214,\n",
       "        0.4578054 ,  0.54116195,  0.61963301,  0.63715404,  0.64964662,\n",
       "        0.65686393,  0.66088144,  0.67953962,  0.6872046 ,  0.72032226,\n",
       "        0.73084883,  0.73126323,  0.73181908,  0.73332092,  0.73528021,\n",
       "        0.74243909,  0.74257661,  0.74489557,  0.75036652,  0.75512423,\n",
       "        0.75943764,  0.76118021,  0.76469854,  0.76633774,  0.76802369,\n",
       "        0.77007893,  0.77070191,  0.77325735,  0.77666515,  0.77721346,\n",
       "        0.78230641,  0.78888843,  0.79201471,  0.79310459,  0.79522819,\n",
       "        0.80049251,  0.80591725,  0.8095901 ,  0.81115945,  0.81595576,\n",
       "        0.8172816 ,  0.81846961,  0.82071785,  0.83207384,  0.83927938])"
      ]
     },
     "execution_count": 12,
     "metadata": {},
     "output_type": "execute_result"
    }
   ],
   "source": [
    "import pandas as pd\n",
    "\n",
    "df = pd.read_json('metrics/femnist_sp_history.json')\n",
    "\n",
    "temp = df['micro-accuracy']\n",
    "fem_sp_his = np.array(temp)\n",
    "fem_sp_his.sort()\n",
    "fem_sp_his"
   ]
  },
  {
   "cell_type": "code",
   "execution_count": 13,
   "metadata": {},
   "outputs": [
    {
     "data": {
      "text/plain": [
       "array([ 0.05689299,  0.14138894,  0.32901792,  0.50237802,  0.6139521 ,\n",
       "        0.64015794,  0.66037865,  0.6672902 ,  0.67450194,  0.68919711,\n",
       "        0.69574054,  0.70686956,  0.72252044,  0.74068121,  0.74250351,\n",
       "        0.74283348,  0.74633222,  0.74906782,  0.75011744,  0.75212885,\n",
       "        0.75364281,  0.75470243,  0.75789551,  0.76200121,  0.76264853,\n",
       "        0.76950933,  0.77168238,  0.7740456 ,  0.77626388,  0.77649622,\n",
       "        0.77709955,  0.78191282,  0.78405309,  0.78548914,  0.79400353,\n",
       "        0.79432928,  0.79513257,  0.7988128 ,  0.79936794,  0.79995226,\n",
       "        0.80391392,  0.80685732,  0.81367653,  0.81762719,  0.81779109,\n",
       "        0.81879243,  0.82041379,  0.82535706,  0.82548626,  0.82728775])"
      ]
     },
     "execution_count": 13,
     "metadata": {},
     "output_type": "execute_result"
    }
   ],
   "source": [
    "import pandas as pd\n",
    "\n",
    "df = pd.read_json('metrics/femnist_ok_mid10_lr05.json')\n",
    "\n",
    "temp = df['micro-accuracy']\n",
    "femnist_ok_mid10_lr05 = np.array(temp)\n",
    "femnist_ok_mid10_lr05.sort()\n",
    "femnist_ok_mid10_lr05"
   ]
  },
  {
   "cell_type": "code",
   "execution_count": 43,
   "metadata": {},
   "outputs": [
    {
     "data": {
      "text/plain": [
       "array([ 0.57530998,  0.58101376,  0.60049121,  0.61908269,  0.62645532,\n",
       "        0.6654555 ,  0.68528205,  0.69829727,  0.70402069,  0.71319841,\n",
       "        0.71587348,  0.72022432,  0.7252026 ,  0.73188388,  0.74006978,\n",
       "        0.74283311,  0.75952381,  0.76858974,  0.77093596,  0.77765065,\n",
       "        0.78310101,  0.79771309,  0.8034827 ,  0.80887283,  0.81085586,\n",
       "        0.81212281,  0.81376263,  0.81622654,  0.82046703,  0.82611903,\n",
       "        0.83022774,  0.83788707,  0.84188948,  0.84222222,  0.84444444,\n",
       "        0.84889204,  0.85685072,  0.86090686,  0.86390977,  0.87192699,\n",
       "        0.87648084,  0.87774725,  0.87820513,  0.88373358,  0.89613045,\n",
       "        0.90370665,  0.91851852,  0.92365591,  0.93191011,  0.94038792])"
      ]
     },
     "execution_count": 43,
     "metadata": {},
     "output_type": "execute_result"
    }
   ],
   "source": [
    "import pandas as pd\n",
    "\n",
    "df = pd.read_json('metrics/celeba_sp_history.json')\n",
    "\n",
    "temp = df['micro-accuracy']\n",
    "cel_sp_his = np.array(temp)\n",
    "cel_sp_his.sort()\n",
    "cel_sp_his"
   ]
  },
  {
   "cell_type": "code",
   "execution_count": 14,
   "metadata": {},
   "outputs": [
    {
     "data": {
      "image/png": "[encoded data removed]",
      "text/plain": [
       "<matplotlib.figure.Figure at 0x7f490251f208>"
      ]
     },
     "metadata": {},
     "output_type": "display_data"
    }
   ],
   "source": [
    "import matplotlib.pyplot as plt\n",
    "\n",
    "rounds = np.arange(1, 51)\n",
    "plt.plot(rounds, femnist_ok_mid10_lr05, label='OUT')\n",
    "plt.plot(rounds, fem_sp_his, label='SIM')\n",
    "plt.legend(loc='best')\n",
    "plt.xlabel('rounds');\n",
    "plt.show()"
   ]
  },
  {
   "cell_type": "code",
   "execution_count": 53,
   "metadata": {},
   "outputs": [
    {
     "data": {
      "image/png": "[encoded data removed]",
      "text/plain": [
       "<matplotlib.figure.Figure at 0x7f948f4b24e0>"
      ]
     },
     "metadata": {},
     "output_type": "display_data"
    }
   ],
   "source": [
    "import matplotlib.pyplot as plt\n",
    "\n",
    "rounds = np.arange(1, 51)\n",
    "plt.plot(rounds, cel_sp_his, label='OUT')\n",
    "plt.plot(rounds, cel_kmmid03_his, label='SIM')\n",
    "plt.legend(loc='best')\n",
    "plt.xlabel('rounds');\n",
    "plt.show()"
   ]
  },
  {
   "cell_type": "code",
   "execution_count": 45,
   "metadata": {},
   "outputs": [
    {
     "data": {
      "text/plain": [
       "array([ 0.55991494,  0.56873162,  0.58333333,  0.58601451,  0.60589935,\n",
       "        0.61082251,  0.61458333,  0.61809374,  0.65889655,  0.65962479,\n",
       "        0.66145833,  0.66145833,  0.66165414,  0.66181243,  0.6624789 ,\n",
       "        0.66415701,  0.66557018,  0.6875    ,  0.69260323,  0.72202413,\n",
       "        0.72894434,  0.73958333,  0.73958333,  0.74069429,  0.74282297,\n",
       "        0.75714972,  0.76009011,  0.76138358,  0.77083333,  0.7797773 ,\n",
       "        0.78493158,  0.79364395,  0.79499582,  0.80042809,  0.80348259,\n",
       "        0.80522222,  0.80669367,  0.81281203,  0.8203125 ,  0.8255102 ,\n",
       "        0.82552083,  0.82724836,  0.84375   ,  0.84375   ,  0.84375   ,\n",
       "        0.84950249,  0.87316083,  0.890625  ,  0.890625  ,  0.92434211])"
      ]
     },
     "execution_count": 45,
     "metadata": {},
     "output_type": "execute_result"
    }
   ],
   "source": [
    "import pandas as pd\n",
    "\n",
    "df = pd.read_json('metrics/history0.json')\n",
    "\n",
    "temp = df['micro-accuracy']\n",
    "cel_kmlow_his = np.array(temp)\n",
    "cel_kmlow_his.sort()\n",
    "cel_kmlow_his"
   ]
  },
  {
   "cell_type": "code",
   "execution_count": 47,
   "metadata": {},
   "outputs": [
    {
     "data": {
      "text/plain": [
       "array([ 0.52138148,  0.58194181,  0.60651461,  0.65762463,  0.66532029,\n",
       "        0.66729588,  0.701814  ,  0.70615377,  0.71284271,  0.71358372,\n",
       "        0.71781843,  0.71826608,  0.72137536,  0.73072384,  0.73329937,\n",
       "        0.73358322,  0.74589532,  0.7546445 ,  0.75714972,  0.77050265,\n",
       "        0.77253606,  0.77798343,  0.7793765 ,  0.78800006,  0.79320988,\n",
       "        0.80240086,  0.80285791,  0.80441017,  0.80445344,  0.8056391 ,\n",
       "        0.80807362,  0.81810385,  0.82043651,  0.82049383,  0.82833231,\n",
       "        0.83223233,  0.83366853,  0.83417098,  0.83493215,  0.83794872,\n",
       "        0.8387056 ,  0.8530392 ,  0.85924789,  0.88006757,  0.889847  ,\n",
       "        0.89758212,  0.90614618,  0.9082308 ,  0.918379  ,  0.98148148])"
      ]
     },
     "execution_count": 47,
     "metadata": {},
     "output_type": "execute_result"
    }
   ],
   "source": [
    "import pandas as pd\n",
    "\n",
    "df = pd.read_json('metrics/history1.json')\n",
    "\n",
    "temp = df['micro-accuracy']\n",
    "cel_kmmid_his = np.array(temp)\n",
    "cel_kmmid_his.sort()\n",
    "cel_kmmid_his"
   ]
  },
  {
   "cell_type": "code",
   "execution_count": 52,
   "metadata": {},
   "outputs": [
    {
     "data": {
      "text/plain": [
       "array([ 0.54528531,  0.5715812 ,  0.65193034,  0.66832202,  0.67181317,\n",
       "        0.68441199,  0.68929969,  0.70782796,  0.70907866,  0.71254842,\n",
       "        0.71588112,  0.72469187,  0.72681704,  0.73131955,  0.73320315,\n",
       "        0.73605667,  0.74648169,  0.75714972,  0.77029915,  0.7741976 ,\n",
       "        0.78604497,  0.79363653,  0.7952381 ,  0.7952381 ,  0.79600694,\n",
       "        0.79773553,  0.79808081,  0.80097259,  0.80827654,  0.81115108,\n",
       "        0.81442538,  0.81446738,  0.82146233,  0.82492438,  0.82867133,\n",
       "        0.8316534 ,  0.83290925,  0.83293076,  0.84613121,  0.84703453,\n",
       "        0.8535593 ,  0.86174724,  0.86720483,  0.87472767,  0.88095238,\n",
       "        0.88666667,  0.90277778,  0.90326158,  0.91460987,  0.93274076])"
      ]
     },
     "execution_count": 52,
     "metadata": {},
     "output_type": "execute_result"
    }
   ],
   "source": [
    "import pandas as pd\n",
    "\n",
    "df = pd.read_json('metrics/history2.json')\n",
    "\n",
    "temp = df['micro-accuracy']\n",
    "cel_kmmid03_his = np.array(temp)\n",
    "cel_kmmid03_his.sort()\n",
    "cel_kmmid03_his"
   ]
  },
  {
   "cell_type": "code",
   "execution_count": null,
   "metadata": {
    "collapsed": true
   },
   "outputs": [],
   "source": []
  }
 ],
 "metadata": {
  "kernelspec": {
   "display_name": "Python 3",
   "language": "python",
   "name": "python3"
  },
  "language_info": {
   "codemirror_mode": {
    "name": "ipython",
    "version": 3
   },
   "file_extension": ".py",
   "mimetype": "text/x-python",
   "name": "python",
   "nbconvert_exporter": "python",
   "pygments_lexer": "ipython3",
   "version": "3.5.2"
  }
 },
 "nbformat": 4,
 "nbformat_minor": 2
}
