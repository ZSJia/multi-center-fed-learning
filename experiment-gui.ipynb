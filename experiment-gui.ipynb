{
 "cells": [
  {
   "cell_type": "code",
   "execution_count": 2,
   "metadata": {},
   "outputs": [
    {
     "name": "stdout",
     "output_type": "stream",
     "text": [
      "/home/jupyter/leaf\n"
     ]
    }
   ],
   "source": [
    "import os\n",
    "print(os.path.join(os.path.expanduser('~'), 'leaf'))"
   ]
  },
  {
   "cell_type": "code",
   "execution_count": 3,
   "metadata": {},
   "outputs": [
    {
     "name": "stdout",
     "output_type": "stream",
     "text": [
      "Overwriting models/experiment.py\n"
     ]
    }
   ],
   "source": [
    "%%writefile \"models/experiment.py\"\n",
    "\n",
    "import os\n",
    "import sys\n",
    "import numpy as np\n",
    "import time\n",
    "\n",
    "from utils_io import get_job_config\n",
    "from utils.model_utils import read_data\n",
    "from utils.args import parse_job_args\n",
    "\n",
    "\n",
    "from fedsem import Fedsem_Trainer\n",
    "from fedavg import Fedavg_Trainer\n",
    "from fedprox import Fedprox_Trainer\n",
    "from fedsgd import Fedsgd_Trainer\n",
    "from fedbayes import Fedbayes_Sing_Trainer\n",
    "from fedrobust import Fedrobust_Trainer\n",
    "from modelsaver import Model_Saver\n",
    "from modelpoison import Model_Poison\n",
    "\n",
    "def read_yamlconfig(args):\n",
    "    yaml_file = os.path.join(\"..\", \"configs\", args.experiment, args.configuration)\n",
    "    job = get_job_config(yaml_file)\n",
    "    params = job['PARAMS']\n",
    "\n",
    "    rounds = params['num-rounds']\n",
    "    print(\"config rounds: \", rounds)\n",
    "\n",
    "    lr = params['lr']\n",
    "    print(\"config lr: \", lr )    \n",
    "    \n",
    "    epochs = params['epochs']\n",
    "    print(\"config epochs: \", epochs)\n",
    "    \n",
    "    clients_per_round = params['clients-per-round']\n",
    "    print(\"config clients per round: \", clients_per_round)\n",
    "    \n",
    "    if ('poisoning' not in params.keys()):\n",
    "        poisoning = False\n",
    "        poi_agents = 0\n",
    "    else:\n",
    "        poisoning = True\n",
    "        poi_agents = int(params['num_agents'])\n",
    "    print(\"config poisoning: \", poisoning)\n",
    "    print(\"config num agents: \", poi_agents)\n",
    "    params['poisoning'] = poisoning\n",
    "    \n",
    "    return params\n",
    "\n",
    "def main():\n",
    "    args = parse_job_args()\n",
    "    config = read_yamlconfig(args)\n",
    "    \n",
    "    # changed 29/08/2021 the follow lines are for google cloud dir\n",
    "    base_dir =  os.path.join(os.path.expanduser('~'), 'leaf')\n",
    "    train_data_dir = os.path.join(base_dir, 'data', args.dataset, 'data', 'train')\n",
    "    test_data_dir = os.path.join(base_dir, 'data', args.dataset, 'data', 'test')   \n",
    "    users, groups, train_data, test_data = read_data(train_data_dir, test_data_dir)\n",
    "    \n",
    "    exp_seeds, book_keep = config[\"exp-seeds\"], [0.] * len(config[\"exp-seeds\"])\n",
    "    \n",
    "    for j, rnd_sed in enumerate(exp_seeds):\n",
    "        config[\"seed\"] = rnd_sed\n",
    "        if args.experiment == 'fedavg':\n",
    "            trainer = Fedavg_Trainer(users, groups, train_data, test_data)\n",
    "            metric = trainer.begins(config, args)\n",
    "            trainer.ends()\n",
    "        elif args.experiment == 'fedprox':\n",
    "            trainer = Fedprox_Trainer(users, groups, train_data, test_data)\n",
    "            metric = trainer.begins(config, args)\n",
    "            trainer.ends()\n",
    "        elif args.experiment == 'fedrobust':\n",
    "            trainer = Fedrobust_Trainer(users, groups, train_data, test_data)\n",
    "            metric = trainer.begins(config, args)\n",
    "            trainer.ends()            \n",
    "        elif args.experiment == 'fedcluster':\n",
    "            pass\n",
    "        elif args.experiment == 'fedsgd':\n",
    "            trainer = Fedsgd_Trainer(users, groups, train_data, test_data)\n",
    "            metric =trainer.begins(config, args)\n",
    "            trainer.ends()            \n",
    "        elif args.experiment == 'fedbayes':\n",
    "            trainer = Fedbayes_Sing_Trainer(users, groups, train_data, test_data)\n",
    "            metric =trainer.begins(config, args)\n",
    "            trainer.ends()\n",
    "        elif args.experiment == 'modelsaver':\n",
    "            trainer = Model_Saver(users, groups, train_data, test_data)\n",
    "            metric = trainer.begins(config, args)\n",
    "            trainer.ends()        \n",
    "        elif args.experiment == 'fedsem':\n",
    "            trainer = Fedsem_Trainer(users, groups, train_data, test_data) \n",
    "            metric = trainer.begins(config, args)\n",
    "            trainer.ends() \n",
    "        elif args.experiment == 'fedpoison':\n",
    "            trainer = Model_Poison(users, groups, train_data, test_data) \n",
    "            metric = trainer.begins(config, args)\n",
    "            trainer.ends()             \n",
    "        else:\n",
    "            print(\"Applications not defined. Please check configs directory if the name is right.\")\n",
    "            break\n",
    "        book_keep[j] = metric\n",
    "        \n",
    "    finals = np.array(book_keep) * 100\n",
    "    print(finals)\n",
    "#     print(\"{} runs - std: {}, med: {}\".format(len(exp_seeds), \n",
    "#                                               np.var(finals),\n",
    "#                                              np.median(finals)))        \n",
    "main()"
   ]
  },
  {
   "cell_type": "code",
   "execution_count": 4,
   "metadata": {},
   "outputs": [
    {
     "name": "stdout",
     "output_type": "stream",
     "text": [
      "Writing models/cross_val.py\n"
     ]
    }
   ],
   "source": [
    "%%writefile \"models/cross_val.py\"\n",
    "import os\n",
    "import sys\n",
    "import time\n",
    "\n",
    "from utils_io import get_job_config\n",
    "from utils.args import parse_job_args\n",
    "\n",
    "def read_yamlconfig(args):\n",
    "    yaml_file = os.path.join(\"..\", \"configs\", args.experiment, \"job.yaml\")\n",
    "    job = get_job_config(yaml_file)\n",
    "    params = job['PARAMS']\n",
    "\n",
    "    rounds = params['num-rounds']\n",
    "    print(\"config rounds: \", rounds)\n",
    "\n",
    "    lr = params['lr']\n",
    "    print(\"config lr: \", lr )    \n",
    "    \n",
    "    epochs = params['epochs']\n",
    "    print(\"config epochs: \", epochs)\n",
    "    \n",
    "    return params\n",
    "\n",
    "def main():\n",
    "    args = parse_job_args()\n",
    "    config = read_yamlconfig(args)\n",
    "\n",
    "    for i in config[\"exp-seeds\"]:\n",
    "        print(int(i))\n",
    "    \n",
    "    config[\"seed\"] = 9999\n",
    "    print(config[\"seed\"])\n",
    "    \n",
    "main()"
   ]
  },
  {
   "cell_type": "code",
   "execution_count": null,
   "metadata": {},
   "outputs": [],
   "source": []
  }
 ],
 "metadata": {
  "environment": {
   "name": "tf2-gpu.2-3.m78",
   "type": "gcloud",
   "uri": "gcr.io/deeplearning-platform-release/tf2-gpu.2-3:m78"
  },
  "kernelspec": {
   "display_name": "Python 3",
   "language": "python",
   "name": "python3"
  },
  "language_info": {
   "codemirror_mode": {
    "name": "ipython",
    "version": 3
   },
   "file_extension": ".py",
   "mimetype": "text/x-python",
   "name": "python",
   "nbconvert_exporter": "python",
   "pygments_lexer": "ipython3",
   "version": "3.7.10"
  }
 },
 "nbformat": 4,
 "nbformat_minor": 4
}
