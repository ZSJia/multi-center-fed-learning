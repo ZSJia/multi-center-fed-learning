{
 "cells": [
  {
   "cell_type": "code",
   "execution_count": 61,
   "metadata": {},
   "outputs": [
    {
     "name": "stdout",
     "output_type": "stream",
     "text": [
      "Overwriting outlkm_algor.py\n"
     ]
    }
   ],
   "source": [
    "%%writefile outlkm_algor.py\n",
    "import numpy as np\n",
    "import copy\n",
    "from scipy.spatial import distance\n",
    "from sklearn.cluster import KMeans\n",
    "\n",
    "class OutlierKmeansAlgor():\n",
    "    \n",
    "    def __init__(self, num_points, dimensions, num_clusters, max_iter, seed, init_type='random',\n",
    "                threshold_dis = 10., threshold_criterion = 0.01, \n",
    "                 max_no_improvement = 3, num_part_of_closest_points = 0.9,\n",
    "                percent_tosample = 0.25):\n",
    "        self.num_points = num_points\n",
    "        self.dimensions = dimensions\n",
    "        self.num_clusters = num_clusters\n",
    "        self.max_iter = max_iter\n",
    "        self.random_state = seed\n",
    "        self.init_type = init_type\n",
    "        self.threshold_dis = threshold_dis\n",
    "        self.threshold_criterion = threshold_criterion\n",
    "        self.max_no_improvement = max_no_improvement\n",
    "        self.num_part_of_closest_points = num_part_of_closest_points\n",
    "        self.percent_tosample = percent_tosample\n",
    "        self._lables = []\n",
    "        \n",
    "        self.labels_ = None\n",
    "        self.previous_centers = None\n",
    "        self.k_means = None\n",
    "        self.no_improvement = 0\n",
    "        self.finalized = False\n",
    "        \n",
    "    def fit(self, points):\n",
    "        all_points = copy.copy(points)\n",
    "        num_sample = np.int(np.floor((len(points) * self.percent_tosample)))\n",
    "        idx = np.random.randint(len(points), size = num_sample)\n",
    "        points = all_points[idx]\n",
    "        if self.k_means is None:\n",
    "            self.init_bige(points)\n",
    "            self.k_means = KMeans(init=self.init_type, n_clusters = self.num_clusters,\n",
    "                                 n_init=50,\n",
    "                                 max_iter = self.max_iter, random_state = self.random_state)\n",
    "            \n",
    "        \n",
    "        self.k_means.fit(points - self.big_E)\n",
    "        self.sovl_ol_problem(points)\n",
    "        centers = self.k_means.cluster_centers_\n",
    "        if self.previous_centers is not None:\n",
    "            delta =  centers - self.previous_centers\n",
    "            #print(\"delta :\", delta)\n",
    "            if np.sqrt(np.sum( (np.array(centers) - np.array(self.previous_centers)) ** 2 ))  < self.threshold_criterion:\n",
    "                #print(\"cluster center is not improving\")\n",
    "                self.no_improvement += 1\n",
    "            else:\n",
    "                self.no_improvement = 0\n",
    "        self.previous_centers = centers\n",
    "        self._lables = self.k_means.predict(all_points)\n",
    "        \n",
    "        #check if we stop earlier, invoker will have to decide fit or not\n",
    "        if self.no_improvement >= self.max_no_improvement:\n",
    "            self.finalized = True\n",
    "        \n",
    "        \n",
    "    def init_bige(self, points):\n",
    "        num_sample = len(points)\n",
    "        self.big_E = np.zeros((num_sample, self.dimensions))        \n",
    "        mu = np.mean(points, axis=0)\n",
    "        point_dis = np.apply_along_axis(lambda i: distance.euclidean(i, mu), 1, points)\n",
    "        copy_point_dis = copy.copy(point_dis)\n",
    "        copy_point_dis.sort()\n",
    "        # retrieve 90% closest elements \n",
    "        idx = np.int(np.floor(len(points) * self.num_part_of_closest_points))\n",
    "        init_out_of_clus_distance = copy_point_dis[idx]\n",
    "        for i in range(len(points)):\n",
    "            if point_dis[i] > init_out_of_clus_distance:\n",
    "                self.big_E[i] = points[i]\n",
    "            \n",
    "        return\n",
    "    \n",
    "    def sovl_ol_problem(self, points):\n",
    "        centers = self.k_means.cluster_centers_\n",
    "        kmeans_labels = self.k_means.labels_\n",
    "        for i in range(len(points)):\n",
    "            x_center = centers[kmeans_labels[i]]\n",
    "            temp_ei = np.array(points[i] - x_center)\n",
    "            term = max(0,  1- self.threshold_dis / max(0.01, distance.euclidean(points[i], x_center)) )\n",
    "            self.big_E[i] = temp_ei * term \n",
    "        return\n",
    "    \n",
    "    @property\n",
    "    def labels(self):\n",
    "        return self._lables\n",
    "    \n",
    "    @property\n",
    "    def get_all_members(self):\n",
    "        return {i: np.where(self._lables == i)[0] for i in range(self.num_clusters)}        \n",
    "    \n",
    "    \n",
    "        \n",
    " "
   ]
  },
  {
   "cell_type": "code",
   "execution_count": 20,
   "metadata": {},
   "outputs": [
    {
     "name": "stdout",
     "output_type": "stream",
     "text": [
      "[4 2 2 4 3 2 3 0 1 1 1 5 5 2 5 3 4 0 2 4 5 3 1 0 3 0 1 0 3 1 1 2 4 2 4 4 0\n",
      " 1 4 1 5 5 0 3 0 0 3 4 3 3 2 4 2 5 1 1 0 4 3 2 4 1 0 0 5 1 0 1 4 1 1 2 1 5\n",
      " 1 0 0 3 5 1 1 0 1 1 4 5 3 5 5 1 3 4 3 1 2 5 1 2 4 0 5 1 1 4 1 0 0 4 5 0 0\n",
      " 3 3 4 4 5 5 2 3 4 1 1 3 0 0 4 1 0 3 4 0 3 4 4 4 3 5 0 5 4 2 4 0 4 1 0 0 4\n",
      " 3 4 5 5 4 3 1 0 1 0 2 2 1 3 0 2 4 1 0 4 2 1 3 1 0 4 1 1 4 0 2 2 5 5 2 3 1\n",
      " 0 4 2 3 2 4 4 5 0 1 4 5 4 4 1 1 0 5 5 1 3 4 1 4 0 4 4 4 5 3 5 4 2 4 4 0 1\n",
      " 0 1 4 4 1 4 4 0 4 3 0 1 4 0 3 1 4 3 5 5 2 3 0 5 5 5 1 0 5 3 0 3 2 2 3 2 1\n",
      " 3 4 1 2 5 5 4 4 2 5 1 1 3 5 5 3 2 4 5 5 0 1 5 4 0 5 2 4 5 5 3 4 1 1 5 4 0\n",
      " 2 0 2 3]\n",
      "{0: array([  7,  17,  23,  25,  27,  36,  42,  44,  45,  56,  62,  63,  66,\n",
      "        75,  76,  81,  99, 105, 106, 109, 110, 123, 124, 127, 130, 137,\n",
      "       142, 145, 146, 155, 157, 162, 166, 172, 177, 185, 193, 201, 209,\n",
      "       220, 222, 229, 232, 235, 244, 249, 252, 279, 283, 295, 297]), 1: array([  8,   9,  10,  22,  26,  29,  30,  37,  39,  54,  55,  61,  65,\n",
      "        67,  69,  70,  72,  74,  79,  80,  82,  83,  89,  93,  96, 101,\n",
      "       102, 104, 120, 121, 126, 144, 154, 156, 160, 165, 169, 171, 174,\n",
      "       175, 184, 194, 199, 200, 204, 207, 221, 223, 226, 233, 237, 248,\n",
      "       258, 261, 269, 270, 280, 291, 292]), 2: array([  1,   2,   5,  13,  18,  31,  33,  50,  52,  59,  71,  94,  97,\n",
      "       117, 140, 158, 159, 163, 168, 178, 179, 182, 187, 189, 217, 242,\n",
      "       254, 255, 257, 262, 267, 275, 285, 296, 298]), 3: array([  4,   6,  15,  21,  24,  28,  43,  46,  48,  49,  58,  77,  86,\n",
      "        90,  92, 111, 112, 118, 122, 128, 131, 135, 148, 153, 161, 170,\n",
      "       183, 188, 205, 214, 231, 236, 239, 243, 251, 253, 256, 259, 271,\n",
      "       274, 289, 299]), 4: array([  0,   3,  16,  19,  32,  34,  35,  38,  47,  51,  57,  60,  68,\n",
      "        84,  91,  98, 103, 107, 113, 114, 119, 125, 129, 132, 133, 134,\n",
      "       139, 141, 143, 147, 149, 152, 164, 167, 173, 176, 186, 190, 191,\n",
      "       195, 197, 198, 206, 208, 210, 211, 212, 216, 218, 219, 224, 225,\n",
      "       227, 228, 230, 234, 238, 260, 265, 266, 276, 282, 286, 290, 294]), 5: array([ 11,  12,  14,  20,  40,  41,  53,  64,  73,  78,  85,  87,  88,\n",
      "        95, 100, 108, 115, 116, 136, 138, 150, 151, 180, 181, 192, 196,\n",
      "       202, 203, 213, 215, 240, 241, 245, 246, 247, 250, 263, 264, 268,\n",
      "       272, 273, 277, 278, 281, 284, 287, 288, 293])}\n"
     ]
    }
   ],
   "source": [
    "num_points = 300\n",
    "dimensions = 3\n",
    "points = np.random.normal(0, 2.0, [num_points, dimensions])\n",
    "\n",
    "km = OutlierKmeansAlgor(num_points, dimensions, num_clusters = 6, max_iter=5, \n",
    "                       seed = 9, init_type='random')\n",
    "\n",
    "for _ in range(100):\n",
    "    km.fit(points)\n",
    "    \n",
    "    if km.finalized:\n",
    "        break\n",
    "        \n",
    "print(km.labels)\n",
    "print(km.get_all_members)"
   ]
  },
  {
   "cell_type": "markdown",
   "metadata": {},
   "source": [
    "# Dataset FEMNIST"
   ]
  },
  {
   "cell_type": "code",
   "execution_count": 3,
   "metadata": {},
   "outputs": [
    {
     "name": "stdout",
     "output_type": "stream",
     "text": [
      "[0.06087221 0.06128316 0.12468871 0.24159877 0.43152687 0.46168402\n",
      " 0.54121157 0.61967386 0.63492762 0.64293575 0.65268139 0.66778831\n",
      " 0.67945163 0.68636486 0.71082072 0.71449878 0.71506985 0.71637896\n",
      " 0.73303502 0.7339421  0.73626944 0.73678011 0.74881855 0.74982103\n",
      " 0.76447073 0.76581781 0.76711718 0.76725416 0.77099318 0.77688073\n",
      " 0.77890105 0.78176165 0.78198048 0.78472327 0.78609219 0.78852988\n",
      " 0.7902714  0.79120134 0.79255316 0.7942819  0.79455972 0.79545283\n",
      " 0.79716552 0.79832982 0.80747635 0.80993746 0.81210792 0.81586978\n",
      " 0.81740711 0.81869865]\n",
      "[0.06198991 0.06268872 0.12813825 0.23555961 0.42804214 0.4578054\n",
      " 0.54116195 0.61963301 0.63715404 0.64964662 0.65686393 0.66088144\n",
      " 0.67953962 0.6872046  0.72032226 0.73084883 0.73126323 0.73181908\n",
      " 0.73332092 0.73528021 0.74243909 0.74257661 0.74489557 0.75036652\n",
      " 0.75512423 0.75943764 0.76118021 0.76469854 0.76633774 0.76802369\n",
      " 0.77007893 0.77070191 0.77325735 0.77666515 0.77721346 0.78230641\n",
      " 0.78888843 0.79201471 0.79310459 0.79522819 0.80049251 0.80591725\n",
      " 0.8095901  0.81115945 0.81595576 0.8172816  0.81846961 0.82071785\n",
      " 0.83207384 0.83927938]\n"
     ]
    }
   ],
   "source": [
    "import pandas as pd\n",
    "import numpy as np\n",
    "\n",
    "df = pd.read_json('metrics/femnist_ok_history.json')\n",
    "\n",
    "temp = df['micro-accuracy']\n",
    "fem_outkm_his = np.array(temp)\n",
    "fem_outkm_his.sort()\n",
    "print(fem_outkm_his)\n",
    "\n",
    "df = pd.read_json('metrics/femnist_sp_history.json')\n",
    "\n",
    "temp = df['micro-accuracy']\n",
    "fem_sp_his = np.array(temp)\n",
    "fem_sp_his.sort()\n",
    "print(fem_sp_his)\n",
    "\n",
    "df = pd.read_json('metrics/femnist_ok_mid10_lr05.json')\n",
    "\n",
    "temp = df['micro-accuracy']\n",
    "femnist_ok_mid10_lr05 = np.array(temp)\n",
    "femnist_ok_mid10_lr05.sort()\n",
    "femnist_ok_mid10_lr05"
   ]
  },
  {
   "cell_type": "code",
   "execution_count": 20,
   "metadata": {},
   "outputs": [
    {
     "name": "stdout",
     "output_type": "stream",
     "text": [
      "0.8856837607\n"
     ]
    }
   ],
   "source": [
    "df = pd.read_json('metrics/history6.json')\n",
    "temp = df['macro']\n",
    "acc_line = np.array(temp)\n",
    "print(max(acc_line))"
   ]
  },
  {
   "cell_type": "code",
   "execution_count": 21,
   "metadata": {},
   "outputs": [
    {
     "name": "stdout",
     "output_type": "stream",
     "text": [
      "0.8725414108\n"
     ]
    }
   ],
   "source": [
    "df = pd.read_json('metrics/history6_2.json')\n",
    "temp = df['macro']\n",
    "acc_line2 = np.array(temp)\n",
    "print(max(acc_line2))"
   ]
  },
  {
   "cell_type": "code",
   "execution_count": 26,
   "metadata": {},
   "outputs": [
    {
     "data": {
      "image/png": "[encoded data removed]",
      "text/plain": [
       "<Figure size 432x288 with 1 Axes>"
      ]
     },
     "metadata": {
      "needs_background": "light"
     },
     "output_type": "display_data"
    }
   ],
   "source": [
    "import matplotlib.pyplot as plt\n",
    "\n",
    "rounds = np.arange(1, 31)\n",
    "plt.plot(rounds, acc_line, label='C=2')\n",
    "plt.plot(rounds, acc_line2, label='C=5')\n",
    "plt.legend(loc='best')\n",
    "plt.xlabel('rounds');\n",
    "plt.show()"
   ]
  },
  {
   "cell_type": "code",
   "execution_count": 56,
   "metadata": {
    "scrolled": true
   },
   "outputs": [
    {
     "name": "stdout",
     "output_type": "stream",
     "text": [
      "[0.85098944 0.81328509 0.92619949 0.85359274 0.91279944 0.87551843\n",
      " 0.80777747 0.91866536 0.8382094  0.89052485 0.80973137 0.87736299\n",
      " 0.87174185 0.87264734 0.87807803 0.83764142 0.84710086 0.90370103\n",
      " 0.87594015 0.87853383 0.86070346 0.86471544 0.86934232 0.848791\n",
      " 0.79991629 0.83627877 0.81037449 0.84408161 0.86090938 0.87252027]\n",
      "{'0': ['f1834_16', 'f2167_65', 'f2087_13', 'f3258_46']}\n",
      "{'0': ['f1257_26', 'f1601_01', 'f2309_54', 'f3906_44'], '2': ['f1887_23', 'f1767_34', 'f1617_41', 'f3977_39']}\n"
     ]
    }
   ],
   "source": [
    "df = pd.read_json('metrics/history8.json')\n",
    "temp = df['micro']\n",
    "acc_line3 = np.array(temp)\n",
    "print(acc_line3)\n",
    "cluster2 = df['assignment'].iloc[2]\n",
    "cluster7 = df['assignment'].iloc[7]\n",
    "cluster24 = df['assignment'].iloc[24]\n",
    "print(cluster2)\n",
    "print(cluster7)"
   ]
  },
  {
   "cell_type": "code",
   "execution_count": 63,
   "metadata": {},
   "outputs": [
    {
     "data": {
      "text/plain": [
       "0.8628124070000001"
      ]
     },
     "execution_count": 63,
     "metadata": {},
     "output_type": "execute_result"
    }
   ],
   "source": [
    "np.median(acc_line3)"
   ]
  },
  {
   "cell_type": "code",
   "execution_count": 58,
   "metadata": {},
   "outputs": [
    {
     "name": "stdout",
     "output_type": "stream",
     "text": [
      "[0.80863583 0.79898844 0.73161094 0.82447711 0.84496059 0.84151072\n",
      " 0.80265693 0.87241596 0.93475482 0.83087673 0.80304005 0.86797583\n",
      " 0.81495845 0.82444028 0.84046931 0.82596302 0.8367198  0.8258783\n",
      " 0.83502517 0.83607419 0.85363636 0.83806611 0.81745295 0.81907384\n",
      " 0.83031616 0.81442981 0.81606354 0.84276953 0.87755948 0.85015719]\n",
      "{'6': ['f4092_24', 'f3944_02', 'f0930_07', 'f0423_04', 'f2027_41']}\n",
      "{'0': ['f2195_64', 'f1097_20', 'f0301_33', 'f3418_34', 'f3173_48']}\n"
     ]
    }
   ],
   "source": [
    "df = pd.read_json('metrics/history8_2.json')\n",
    "temp = df['micro']\n",
    "acc_line4 = np.array(temp)\n",
    "print(acc_line4)\n",
    "cluster2 = df['assignment'].iloc[2]\n",
    "cluster8 = df['assignment'].iloc[8]\n",
    "print(cluster2)\n",
    "print(cluster8)"
   ]
  },
  {
   "cell_type": "code",
   "execution_count": 64,
   "metadata": {},
   "outputs": [
    {
     "data": {
      "text/plain": [
       "0.8305964446"
      ]
     },
     "execution_count": 64,
     "metadata": {},
     "output_type": "execute_result"
    }
   ],
   "source": [
    "np.median(acc_line4)"
   ]
  },
  {
   "cell_type": "code",
   "execution_count": 73,
   "metadata": {
    "scrolled": true
   },
   "outputs": [
    {
     "data": {
      "image/png": "[encoded data removed]",
      "text/plain": [
       "<Figure size 432x288 with 1 Axes>"
      ]
     },
     "metadata": {
      "needs_background": "light"
     },
     "output_type": "display_data"
    }
   ],
   "source": [
    "import matplotlib.pyplot as plt\n",
    "\n",
    "rounds = np.arange(1, 31)\n",
    "plt.plot(rounds, acc_line3, label='C=2')\n",
    "plt.plot(rounds, acc_line4, label='C=5')\n",
    "plt.legend(loc='best')\n",
    "plt.xlabel('rounds');\n",
    "plt.show()"
   ]
  },
  {
   "cell_type": "code",
   "execution_count": 71,
   "metadata": {},
   "outputs": [
    {
     "name": "stdout",
     "output_type": "stream",
     "text": [
      "[0.86501736 0.89766977 0.87007616 0.83876739 0.80262132 0.89852285\n",
      " 0.84817413 0.96712329 0.88496732 0.8299438  0.80887347 0.86816387\n",
      " 0.96864821 0.90148368 0.86112023 0.8573397  0.85857616 0.79774616\n",
      " 0.84972293 0.89787933 0.85331005 0.69408077 0.85722813 0.80999309\n",
      " 0.77922078 0.94099379 0.93875124 0.72239108 0.88476411 0.88621795]\n",
      "0.85984819695\n"
     ]
    }
   ],
   "source": [
    "df = pd.read_json('metrics/history10.json')\n",
    "temp = df['micro']\n",
    "acc_line3 = np.array(temp)\n",
    "print(acc_line3)\n",
    "print(np.median(acc_line3))"
   ]
  },
  {
   "cell_type": "code",
   "execution_count": 76,
   "metadata": {},
   "outputs": [
    {
     "name": "stdout",
     "output_type": "stream",
     "text": [
      "[0.86650454 0.81746106 0.82606441 0.75904708 0.8597289  0.80754176\n",
      " 0.7832746  0.85564695 0.88471475 0.8745532  0.81482802 0.82782926\n",
      " 0.85884298 0.80328198 0.87813033 0.8468387  0.87549991 0.83203736\n",
      " 0.83660951 0.86025525 0.80533394 0.82138854 0.80004322 0.83797316\n",
      " 0.84504592 0.82871914 0.83098676 0.84203581 0.78564586 0.85273385]\n",
      "0.8343234372500001\n"
     ]
    }
   ],
   "source": [
    "df = pd.read_json('metrics/history10_2.json')\n",
    "temp = df['micro']\n",
    "acc_line4 = np.array(temp)\n",
    "print(acc_line4)\n",
    "print(np.median(acc_line4))"
   ]
  },
  {
   "cell_type": "markdown",
   "metadata": {},
   "source": [
    "# Dataset CELEBA"
   ]
  },
  {
   "cell_type": "code",
   "execution_count": 43,
   "metadata": {},
   "outputs": [
    {
     "data": {
      "text/plain": [
       "array([ 0.57530998,  0.58101376,  0.60049121,  0.61908269,  0.62645532,\n",
       "        0.6654555 ,  0.68528205,  0.69829727,  0.70402069,  0.71319841,\n",
       "        0.71587348,  0.72022432,  0.7252026 ,  0.73188388,  0.74006978,\n",
       "        0.74283311,  0.75952381,  0.76858974,  0.77093596,  0.77765065,\n",
       "        0.78310101,  0.79771309,  0.8034827 ,  0.80887283,  0.81085586,\n",
       "        0.81212281,  0.81376263,  0.81622654,  0.82046703,  0.82611903,\n",
       "        0.83022774,  0.83788707,  0.84188948,  0.84222222,  0.84444444,\n",
       "        0.84889204,  0.85685072,  0.86090686,  0.86390977,  0.87192699,\n",
       "        0.87648084,  0.87774725,  0.87820513,  0.88373358,  0.89613045,\n",
       "        0.90370665,  0.91851852,  0.92365591,  0.93191011,  0.94038792])"
      ]
     },
     "execution_count": 43,
     "metadata": {},
     "output_type": "execute_result"
    }
   ],
   "source": [
    "import pandas as pd\n",
    "\n",
    "df = pd.read_json('metrics/celeba_sp_history.json')\n",
    "\n",
    "temp = df['micro-accuracy']\n",
    "cel_sp_his = np.array(temp)\n",
    "cel_sp_his.sort()\n",
    "cel_sp_his"
   ]
  },
  {
   "cell_type": "code",
   "execution_count": 14,
   "metadata": {},
   "outputs": [
    {
     "data": {
      "image/png": "[encoded data removed]",
      "text/plain": [
       "<matplotlib.figure.Figure at 0x7f490251f208>"
      ]
     },
     "metadata": {},
     "output_type": "display_data"
    }
   ],
   "source": [
    "import matplotlib.pyplot as plt\n",
    "\n",
    "rounds = np.arange(1, 51)\n",
    "plt.plot(rounds, femnist_ok_mid10_lr05, label='OUT')\n",
    "plt.plot(rounds, fem_sp_his, label='SIM')\n",
    "plt.legend(loc='best')\n",
    "plt.xlabel('rounds');\n",
    "plt.show()"
   ]
  },
  {
   "cell_type": "code",
   "execution_count": 53,
   "metadata": {},
   "outputs": [
    {
     "data": {
      "image/png": "[encoded data removed]",
      "text/plain": [
       "<matplotlib.figure.Figure at 0x7f948f4b24e0>"
      ]
     },
     "metadata": {},
     "output_type": "display_data"
    }
   ],
   "source": [
    "import matplotlib.pyplot as plt\n",
    "\n",
    "rounds = np.arange(1, 51)\n",
    "plt.plot(rounds, cel_sp_his, label='OUT')\n",
    "plt.plot(rounds, cel_kmmid03_his, label='SIM')\n",
    "plt.legend(loc='best')\n",
    "plt.xlabel('rounds');\n",
    "plt.show()"
   ]
  },
  {
   "cell_type": "code",
   "execution_count": 45,
   "metadata": {},
   "outputs": [
    {
     "data": {
      "text/plain": [
       "array([ 0.55991494,  0.56873162,  0.58333333,  0.58601451,  0.60589935,\n",
       "        0.61082251,  0.61458333,  0.61809374,  0.65889655,  0.65962479,\n",
       "        0.66145833,  0.66145833,  0.66165414,  0.66181243,  0.6624789 ,\n",
       "        0.66415701,  0.66557018,  0.6875    ,  0.69260323,  0.72202413,\n",
       "        0.72894434,  0.73958333,  0.73958333,  0.74069429,  0.74282297,\n",
       "        0.75714972,  0.76009011,  0.76138358,  0.77083333,  0.7797773 ,\n",
       "        0.78493158,  0.79364395,  0.79499582,  0.80042809,  0.80348259,\n",
       "        0.80522222,  0.80669367,  0.81281203,  0.8203125 ,  0.8255102 ,\n",
       "        0.82552083,  0.82724836,  0.84375   ,  0.84375   ,  0.84375   ,\n",
       "        0.84950249,  0.87316083,  0.890625  ,  0.890625  ,  0.92434211])"
      ]
     },
     "execution_count": 45,
     "metadata": {},
     "output_type": "execute_result"
    }
   ],
   "source": [
    "import pandas as pd\n",
    "\n",
    "df = pd.read_json('metrics/history0.json')\n",
    "\n",
    "temp = df['micro-accuracy']\n",
    "cel_kmlow_his = np.array(temp)\n",
    "cel_kmlow_his.sort()\n",
    "cel_kmlow_his"
   ]
  },
  {
   "cell_type": "code",
   "execution_count": 36,
   "metadata": {},
   "outputs": [
    {
     "data": {
      "text/plain": [
       "array([ 0.55488822,  0.63805741,  0.65865103,  0.663086  ,  0.66668929,\n",
       "        0.66898436,  0.69024842,  0.70608108,  0.70702118,  0.708009  ,\n",
       "        0.71453634,  0.7153804 ,  0.7177402 ,  0.71982265,  0.7255059 ,\n",
       "        0.72746746,  0.74243829,  0.75153535,  0.75580952,  0.7558835 ,\n",
       "        0.76464138,  0.77016063,  0.77110679,  0.77840909,  0.78200549,\n",
       "        0.79192547,  0.79983974,  0.80064143,  0.8034827 ,  0.80690253,\n",
       "        0.80887283,  0.81656467,  0.81703297,  0.81772152,  0.82965686,\n",
       "        0.84188948,  0.85212281,  0.86247723,  0.86263318,  0.86382022,\n",
       "        0.87185952,  0.87192699,  0.87521368,  0.87648084,  0.87820513,\n",
       "        0.88373358,  0.88687488,  0.89074074,  0.89139785,  1.        ])"
      ]
     },
     "execution_count": 36,
     "metadata": {},
     "output_type": "execute_result"
    }
   ],
   "source": [
    "import pandas as pd\n",
    "\n",
    "df = pd.read_json('metrics/celeba_ok_history.json')\n",
    "\n",
    "temp = df['micro-accuracy']\n",
    "cel_outkm_his = np.array(temp)\n",
    "cel_outkm_his.sort()\n",
    "cel_outkm_his"
   ]
  },
  {
   "cell_type": "code",
   "execution_count": 47,
   "metadata": {},
   "outputs": [
    {
     "data": {
      "text/plain": [
       "array([ 0.52138148,  0.58194181,  0.60651461,  0.65762463,  0.66532029,\n",
       "        0.66729588,  0.701814  ,  0.70615377,  0.71284271,  0.71358372,\n",
       "        0.71781843,  0.71826608,  0.72137536,  0.73072384,  0.73329937,\n",
       "        0.73358322,  0.74589532,  0.7546445 ,  0.75714972,  0.77050265,\n",
       "        0.77253606,  0.77798343,  0.7793765 ,  0.78800006,  0.79320988,\n",
       "        0.80240086,  0.80285791,  0.80441017,  0.80445344,  0.8056391 ,\n",
       "        0.80807362,  0.81810385,  0.82043651,  0.82049383,  0.82833231,\n",
       "        0.83223233,  0.83366853,  0.83417098,  0.83493215,  0.83794872,\n",
       "        0.8387056 ,  0.8530392 ,  0.85924789,  0.88006757,  0.889847  ,\n",
       "        0.89758212,  0.90614618,  0.9082308 ,  0.918379  ,  0.98148148])"
      ]
     },
     "execution_count": 47,
     "metadata": {},
     "output_type": "execute_result"
    }
   ],
   "source": [
    "import pandas as pd\n",
    "\n",
    "df = pd.read_json('metrics/history1.json')\n",
    "\n",
    "temp = df['micro-accuracy']\n",
    "cel_kmmid_his = np.array(temp)\n",
    "cel_kmmid_his.sort()\n",
    "cel_kmmid_his"
   ]
  },
  {
   "cell_type": "code",
   "execution_count": 52,
   "metadata": {},
   "outputs": [
    {
     "data": {
      "text/plain": [
       "array([ 0.54528531,  0.5715812 ,  0.65193034,  0.66832202,  0.67181317,\n",
       "        0.68441199,  0.68929969,  0.70782796,  0.70907866,  0.71254842,\n",
       "        0.71588112,  0.72469187,  0.72681704,  0.73131955,  0.73320315,\n",
       "        0.73605667,  0.74648169,  0.75714972,  0.77029915,  0.7741976 ,\n",
       "        0.78604497,  0.79363653,  0.7952381 ,  0.7952381 ,  0.79600694,\n",
       "        0.79773553,  0.79808081,  0.80097259,  0.80827654,  0.81115108,\n",
       "        0.81442538,  0.81446738,  0.82146233,  0.82492438,  0.82867133,\n",
       "        0.8316534 ,  0.83290925,  0.83293076,  0.84613121,  0.84703453,\n",
       "        0.8535593 ,  0.86174724,  0.86720483,  0.87472767,  0.88095238,\n",
       "        0.88666667,  0.90277778,  0.90326158,  0.91460987,  0.93274076])"
      ]
     },
     "execution_count": 52,
     "metadata": {},
     "output_type": "execute_result"
    }
   ],
   "source": [
    "import pandas as pd\n",
    "\n",
    "df = pd.read_json('metrics/history2.json')\n",
    "\n",
    "temp = df['micro-accuracy']\n",
    "cel_kmmid03_his = np.array(temp)\n",
    "cel_kmmid03_his.sort()\n",
    "cel_kmmid03_his"
   ]
  },
  {
   "cell_type": "code",
   "execution_count": null,
   "metadata": {
    "collapsed": true
   },
   "outputs": [],
   "source": []
  }
 ],
 "metadata": {
  "kernelspec": {
   "display_name": "Python 3",
   "language": "python",
   "name": "python3"
  },
  "language_info": {
   "codemirror_mode": {
    "name": "ipython",
    "version": 3
   },
   "file_extension": ".py",
   "mimetype": "text/x-python",
   "name": "python",
   "nbconvert_exporter": "python",
   "pygments_lexer": "ipython3",
   "version": "3.7.8"
  }
 },
 "nbformat": 4,
 "nbformat_minor": 2
}
