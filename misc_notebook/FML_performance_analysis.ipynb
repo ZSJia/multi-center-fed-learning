{
 "cells": [
  {
   "cell_type": "markdown",
   "metadata": {},
   "source": [
    "# Current issue\n",
    "\n",
    "TODO thing: \n",
    "* load data and clients\n",
    "* load a model as global model\n",
    "* call test on a batch of clients (say 100)\n",
    "* get their performance \n",
    "* analyze why some nodes perform worse than others\n",
    "* visual those nodes data (in photo)\n",
    "* inspect those nodes model to find common properties (including distribution)"
   ]
  },
  {
   "cell_type": "code",
   "execution_count": 6,
   "metadata": {},
   "outputs": [
    {
     "name": "stdout",
     "output_type": "stream",
     "text": [
      "Once deleted, variables cannot be recovered. Proceed (y/[n])? y\n"
     ]
    }
   ],
   "source": [
    "%reset"
   ]
  },
  {
   "cell_type": "code",
   "execution_count": 2,
   "metadata": {},
   "outputs": [
    {
     "data": {
      "text/plain": [
       "'<ipython-input-2-5c735c84e9ea>'"
      ]
     },
     "execution_count": 2,
     "metadata": {},
     "output_type": "execute_result"
    }
   ],
   "source": [
    "import inspect\n",
    "inspect.getfile(inspect.currentframe())"
   ]
  },
  {
   "cell_type": "code",
   "execution_count": 4,
   "metadata": {},
   "outputs": [
    {
     "name": "stdout",
     "output_type": "stream",
     "text": [
      "[{<ipython-input-4-a2bdcabf1364>:42} INFO - [PhysicalDevice(name='/physical_device:GPU:0', device_type='GPU'), PhysicalDevice(name='/physical_device:GPU:1', device_type='GPU')]\n",
      "...loading model params from saved file...\n"
     ]
    },
    {
     "ename": "FileNotFoundError",
     "evalue": "[Errno 2] No such file or directory: 'cnn_models/cnn-C0.pb'",
     "output_type": "error",
     "traceback": [
      "\u001b[0;31m---------------------------------------------------------------------------\u001b[0m",
      "\u001b[0;31mFileNotFoundError\u001b[0m                         Traceback (most recent call last)",
      "\u001b[0;32m<ipython-input-4-a2bdcabf1364>\u001b[0m in \u001b[0;36m<module>\u001b[0;34m\u001b[0m\n\u001b[1;32m     57\u001b[0m \u001b[0mpretrained_nn\u001b[0m \u001b[0;34m=\u001b[0m \u001b[0;34m[\u001b[0m\u001b[0;34m]\u001b[0m\u001b[0;34m\u001b[0m\u001b[0;34m\u001b[0m\u001b[0m\n\u001b[1;32m     58\u001b[0m \u001b[0;32mfor\u001b[0m \u001b[0mi\u001b[0m \u001b[0;32min\u001b[0m \u001b[0mrange\u001b[0m\u001b[0;34m(\u001b[0m\u001b[0mlen\u001b[0m\u001b[0;34m(\u001b[0m\u001b[0mmodl_saved_files\u001b[0m\u001b[0;34m)\u001b[0m\u001b[0;34m)\u001b[0m\u001b[0;34m:\u001b[0m\u001b[0;34m\u001b[0m\u001b[0;34m\u001b[0m\u001b[0m\n\u001b[0;32m---> 59\u001b[0;31m     \u001b[0;32mwith\u001b[0m \u001b[0mopen\u001b[0m\u001b[0;34m(\u001b[0m\u001b[0mmodl_saved_files\u001b[0m\u001b[0;34m[\u001b[0m\u001b[0mi\u001b[0m\u001b[0;34m]\u001b[0m\u001b[0;34m,\u001b[0m \u001b[0;34m'rb'\u001b[0m\u001b[0;34m)\u001b[0m \u001b[0;32mas\u001b[0m \u001b[0mf\u001b[0m\u001b[0;34m:\u001b[0m\u001b[0;34m\u001b[0m\u001b[0;34m\u001b[0m\u001b[0m\n\u001b[0m\u001b[1;32m     60\u001b[0m         \u001b[0mpretrained_nn\u001b[0m\u001b[0;34m[\u001b[0m\u001b[0mi\u001b[0m\u001b[0;34m]\u001b[0m \u001b[0;34m=\u001b[0m \u001b[0;34m(\u001b[0m\u001b[0mpickle\u001b[0m\u001b[0;34m.\u001b[0m\u001b[0mload\u001b[0m\u001b[0;34m(\u001b[0m\u001b[0mf\u001b[0m\u001b[0;34m)\u001b[0m\u001b[0;34m)\u001b[0m\u001b[0;34m\u001b[0m\u001b[0;34m\u001b[0m\u001b[0m\n\u001b[1;32m     61\u001b[0m \u001b[0;34m\u001b[0m\u001b[0m\n",
      "\u001b[0;31mFileNotFoundError\u001b[0m: [Errno 2] No such file or directory: 'cnn_models/cnn-C0.pb'"
     ]
    }
   ],
   "source": [
    "\n",
    "\"\"\"\n",
    "In jupyter notebook simple logging to console\n",
    "\"\"\"\n",
    "import os\n",
    "import inspect\n",
    "import sys\n",
    "import tensorflow as tf\n",
    "\n",
    "parent_dir = os.path.dirname(os.path.dirname(os.path.abspath(inspect.getfile(inspect.currentframe()))))\n",
    "models_dir = os.path.join(parent_dir, 'models')\n",
    "utils_dir = os.path.join(parent_dir, 'utils')\n",
    "sys.path.insert(0, utils_dir)\n",
    "sys.path.insert(0, models_dir)\n",
    "\n",
    "import logging\n",
    "import datetime\n",
    "import copy\n",
    "import importlib\n",
    "import random\n",
    "\n",
    "import pickle\n",
    "import matplotlib.pyplot as plt\n",
    "import numpy as np\n",
    "import inspect\n",
    "import setup_clients\n",
    "import dataset\n",
    "import pandas as pd\n",
    "\n",
    "stream_handler = logging.StreamHandler(sys.stdout)\n",
    "stream_handler.setLevel(logging.INFO)\n",
    "logging.basicConfig(\n",
    "    level=logging.DEBUG, \n",
    "    format='[{%(filename)s:%(lineno)d} %(levelname)s - %(message)s',\n",
    "    handlers=[\n",
    "        stream_handler\n",
    "    ]\n",
    ")\n",
    "\n",
    "logger = logging.getLogger(\"simple_log\")\n",
    "\n",
    "physical_devices = tf.config.experimental.get_visible_devices('GPU')\n",
    "logger.info(physical_devices)\n",
    "if len(physical_devices) > 0:\n",
    "    for i in range(len(physical_devices)):\n",
    "        tf.config.experimental.set_memory_growth(physical_devices[i], True)\n",
    "        \n",
    "DATASETS = ['mnist', 'femnist', 'celeba', 'cifar10']\n",
    "MODEL_NAME = 'cnn'\n",
    "exp_dataset = DATASETS[1]\n",
    "attributes = dataset.DATASET_ATTRIBUTES[exp_dataset]\n",
    "mod = importlib.import_module('{}'.format(MODEL_NAME))\n",
    "ClientModel = getattr(mod, \"ClientModel\")\n",
    "_shared_model = ClientModel(8588283317, 0.03, 62, None)\n",
    "\n",
    "print('...loading model params from saved file...')\n",
    "modl_saved_files = [os.path.join('cnn_models', 'cnn-C{}.pb'.format(j)) for j in range(2)]\n",
    "pretrained_nn = []\n",
    "for i in range(len(modl_saved_files)):\n",
    "    with open(modl_saved_files[i], 'rb') as f:    \n",
    "        pretrained_nn[i] = (pickle.load(f))\n",
    "\n",
    "setup_mod = setup_clients\n",
    "_setup_func = getattr(setup_mod, 'setup_clients_{}'.format(exp_dataset))\n",
    "clients, train_data, test_data = _setup_func(_shared_model)\n",
    "print(\"number of clients: %d\" % len(clients))\n",
    "\n",
    "# loop_iter = 1\n",
    "\n",
    "# generate some clients for use first\n",
    "# num_per_cluster = 30\n",
    "# cluster_indices = random.shuffle(range(3500))\n",
    "# selected_clients = [cluster_indices[:num_per_cluster], cluster_indices[num_per_cluster: num_per_cluster * 2] ]\n",
    "\n",
    "# his_acc = []\n",
    "# # get all client's acc arrays\n",
    "# for i in len(pretrained_nn):\n",
    "#     pretrained = pretrained_nn[i]\n",
    "#     dic = {}\n",
    "#     for c in selected_clients[i]:\n",
    "#         client = clients[c]\n",
    "#         client.model.set_params(pretrained)\n",
    "#         acc = client.test()\n",
    "#         dic[client.id] = acc\n",
    "#     his_acc.append(dic)\n",
    "    \n",
    "# df = pd.DataFrame(his_acc)\n",
    "# df.to_json(\"./eval.json\")\n",
    "\n",
    "    "
   ]
  },
  {
   "cell_type": "code",
   "execution_count": null,
   "metadata": {},
   "outputs": [],
   "source": [
    "for e in loop_iter:\n",
    "    duplicates = []\n",
    "    batch_clients = random.sample(clients, num_per_batch)\n",
    "    ids = [c.id for c in batch_clients]\n",
    "    for j, name in enumerate(ids):\n",
    "        if name in clients_ids:\n",
    "            duplicates.append(batch_clients[j])\n",
    "    for item in duplicates:\n",
    "        batch_clients.remove(item)\n",
    "    clients_selected.extend(batch_clients)\n",
    "    clients_ids = [c.id for c in clients_selected]\n",
    "    \n",
    "server = Server(_shared_model)\n",
    "server.test_model(clients)"
   ]
  },
  {
   "cell_type": "code",
   "execution_count": 16,
   "metadata": {},
   "outputs": [],
   "source": [
    "import inspect\n",
    "\n",
    "base = inspect.getfile(inspect.currentframe())\n",
    "import os\n",
    "import sys\n",
    "import tensorflow as tf\n",
    "\n",
    "parent_dir = os.path.dirname(os.path.dirname(os.path.abspath(base)))\n",
    "models_dir = os.path.join(parent_dir, 'models')\n",
    "utils_dir = os.path.join(parent_dir, 'utils')\n",
    "sys.path.insert(0, utils_dir)\n",
    "sys.path.insert(0, models_dir)"
   ]
  },
  {
   "cell_type": "code",
   "execution_count": 26,
   "metadata": {},
   "outputs": [],
   "source": [
    "import importlib\n",
    "\n",
    "MODEL_NAME = 'cnn'\n",
    "mod = importlib.import_module( MODEL_NAME)"
   ]
  },
  {
   "cell_type": "code",
   "execution_count": 23,
   "metadata": {},
   "outputs": [
    {
     "name": "stdout",
     "output_type": "stream",
     "text": [
      "['/home/ubuntu/ipynb/multi-center-fed-learning/models', '/home/ubuntu/ipynb/multi-center-fed-learning/utils', '/home/ubuntu/ipynb/multi-center-fed-learning/misc_notebook', '/home/ubuntu/anaconda3/envs/tf1gpu/lib/python37.zip', '/home/ubuntu/anaconda3/envs/tf1gpu/lib/python3.7', '/home/ubuntu/anaconda3/envs/tf1gpu/lib/python3.7/lib-dynload', '', '/home/ubuntu/anaconda3/envs/tf1gpu/lib/python3.7/site-packages', '/home/ubuntu/anaconda3/envs/tf1gpu/lib/python3.7/site-packages/IPython/extensions', '/home/ubuntu/.ipython']\n"
     ]
    }
   ],
   "source": [
    "print(sys.path)"
   ]
  },
  {
   "cell_type": "code",
   "execution_count": null,
   "metadata": {},
   "outputs": [],
   "source": []
  }
 ],
 "metadata": {
  "kernelspec": {
   "display_name": "Python 3",
   "language": "python",
   "name": "python3"
  },
  "language_info": {
   "codemirror_mode": {
    "name": "ipython",
    "version": 3
   },
   "file_extension": ".py",
   "mimetype": "text/x-python",
   "name": "python",
   "nbconvert_exporter": "python",
   "pygments_lexer": "ipython3",
   "version": "3.7.8"
  }
 },
 "nbformat": 4,
 "nbformat_minor": 2
}
