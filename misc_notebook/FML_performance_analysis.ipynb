{
 "cells": [
  {
   "cell_type": "markdown",
   "metadata": {},
   "source": [
    "# Current issue\n",
    "\n",
    "TODO thing: \n",
    "* load data and clients\n",
    "* load a model as global model\n",
    "* call test on a batch of clients (say 100)\n",
    "* get their performance \n",
    "* analyze why some nodes perform worse than others\n",
    "* visual those nodes data (in photo)\n",
    "* inspect those nodes model to find common properties (including distribution)"
   ]
  },
  {
   "cell_type": "code",
   "execution_count": 6,
   "metadata": {},
   "outputs": [
    {
     "name": "stdout",
     "output_type": "stream",
     "text": [
      "Once deleted, variables cannot be recovered. Proceed (y/[n])? y\n"
     ]
    }
   ],
   "source": [
    "%reset"
   ]
  },
  {
   "cell_type": "code",
   "execution_count": null,
   "metadata": {
    "collapsed": true
   },
   "outputs": [],
   "source": [
    "inspect.getfile(inspect.currentframe())"
   ]
  },
  {
   "cell_type": "code",
   "execution_count": 1,
   "metadata": {},
   "outputs": [
    {
     "name": "stdout",
     "output_type": "stream",
     "text": [
      "Overwriting performance.py\n"
     ]
    }
   ],
   "source": [
    "%%writefile performance.py\n",
    "\"\"\"\n",
    "In jupyter notebook simple logging to console\n",
    "\"\"\"\n",
    "import os\n",
    "import inspect\n",
    "import sys\n",
    "import tensorflow as tf\n",
    "\n",
    "parent_dir = os.path.dirname(os.path.dirname(os.path.abspath(__file__)))\n",
    "models_dir = os.path.join(parent_dir, 'models')\n",
    "utils_dir = os.path.join(parent_dir, 'utils')\n",
    "sys.path.insert(0, utils_dir)\n",
    "sys.path.insert(0, models_dir)\n",
    "\n",
    "import logging\n",
    "import datetime\n",
    "import copy\n",
    "import importlib\n",
    "import random\n",
    "\n",
    "import pickle\n",
    "import matplotlib.pyplot as plt\n",
    "import numpy as np\n",
    "import inspect\n",
    "import setup_clients\n",
    "import dataset\n",
    "\n",
    "stream_handler = logging.StreamHandler(sys.stdout)\n",
    "stream_handler.setLevel(logging.INFO)\n",
    "logging.basicConfig(\n",
    "    level=logging.DEBUG, \n",
    "    format='[{%(filename)s:%(lineno)d} %(levelname)s - %(message)s',\n",
    "    handlers=[\n",
    "        stream_handler\n",
    "    ]\n",
    ")\n",
    "\n",
    "logger = logging.getLogger(\"simple_log\")\n",
    "\n",
    "physical_devices = tf.config.experimental.get_visible_devices('GPU')\n",
    "logger.info(physical_devices)\n",
    "if len(physical_devices) > 0:\n",
    "    for i in range(len(physical_devices)):\n",
    "        tf.config.experimental.set_memory_growth(physical_devices[i], True)\n",
    "        \n",
    "DATASETS = ['mnist', 'femnist', 'celeba', 'cifar10']\n",
    "MODEL_NAME = 'cnn'\n",
    "exp_dataset = DATASETS[1]\n",
    "attributes = dataset.DATASET_ATTRIBUTES[exp_dataset]\n",
    "mod = importlib.import_module('{}'.format(MODEL_NAME))\n",
    "ClientModel = getattr(mod, \"ClientModel\")\n",
    "_shared_model = ClientModel(100, 0.01, 62, None)\n",
    "\n",
    "print('...loading model params from saved file...')\n",
    "saved_file = os.path.join('cnn_models', 'cnn-C1.pb')\n",
    "with open(saved_file, 'rb') as f:    \n",
    "    _shared_model.set_params(pickle.load(f))\n",
    "\n",
    "setup_mod = setup_clients\n",
    "_setup_func = getattr(setup_mod, 'setup_clients_{}'.format(exp_dataset))\n",
    "clients, train_data, test_data = _setup_func(_shared_model)\n",
    "print(\"number of clients: %d\" % len(clients))\n",
    "\n",
    "loop_iter = 1\n",
    "num_per_batch = 50\n",
    "clients_ids = []\n",
    "clients_selected = [] # using random next time\n",
    "\n",
    "for e in loop_iter:\n",
    "    duplicates = []\n",
    "    batch_clients = random.sample(clients, num_per_batch)\n",
    "    ids = [c.id for c in batch_clients]\n",
    "    for j, name in enumerate(ids):\n",
    "        if name in clients_ids:\n",
    "            duplicates.append(batch_clients[j])\n",
    "    for item in duplicates:\n",
    "        batch_clients.remove(item)\n",
    "    clients_selected.extend(batch_clients)\n",
    "    clients_ids = [c.id for c in clients_selected]\n",
    "    \n",
    "server = Server(_shared_model)\n",
    "server.test_model(clients)"
   ]
  },
  {
   "cell_type": "code",
   "execution_count": 16,
   "metadata": {},
   "outputs": [],
   "source": [
    "import inspect\n",
    "\n",
    "base = inspect.getfile(inspect.currentframe())\n",
    "import os\n",
    "import sys\n",
    "import tensorflow as tf\n",
    "\n",
    "parent_dir = os.path.dirname(os.path.dirname(os.path.abspath(base)))\n",
    "models_dir = os.path.join(parent_dir, 'models')\n",
    "utils_dir = os.path.join(parent_dir, 'utils')\n",
    "sys.path.insert(0, utils_dir)\n",
    "sys.path.insert(0, models_dir)"
   ]
  },
  {
   "cell_type": "code",
   "execution_count": 26,
   "metadata": {},
   "outputs": [],
   "source": [
    "import importlib\n",
    "\n",
    "MODEL_NAME = 'cnn'\n",
    "mod = importlib.import_module( MODEL_NAME)\n",
    "\n"
   ]
  },
  {
   "cell_type": "code",
   "execution_count": 23,
   "metadata": {},
   "outputs": [
    {
     "name": "stdout",
     "output_type": "stream",
     "text": [
      "['/home/ubuntu/ipynb/multi-center-fed-learning/models', '/home/ubuntu/ipynb/multi-center-fed-learning/utils', '/home/ubuntu/ipynb/multi-center-fed-learning/misc_notebook', '/home/ubuntu/anaconda3/envs/tf1gpu/lib/python37.zip', '/home/ubuntu/anaconda3/envs/tf1gpu/lib/python3.7', '/home/ubuntu/anaconda3/envs/tf1gpu/lib/python3.7/lib-dynload', '', '/home/ubuntu/anaconda3/envs/tf1gpu/lib/python3.7/site-packages', '/home/ubuntu/anaconda3/envs/tf1gpu/lib/python3.7/site-packages/IPython/extensions', '/home/ubuntu/.ipython']\n"
     ]
    }
   ],
   "source": [
    "print(sys.path)"
   ]
  },
  {
   "cell_type": "code",
   "execution_count": null,
   "metadata": {},
   "outputs": [],
   "source": []
  }
 ],
 "metadata": {
  "kernelspec": {
   "display_name": "Python 3",
   "language": "python",
   "name": "python3"
  },
  "language_info": {
   "codemirror_mode": {
    "name": "ipython",
    "version": 3
   },
   "file_extension": ".py",
   "mimetype": "text/x-python",
   "name": "python",
   "nbconvert_exporter": "python",
   "pygments_lexer": "ipython3",
   "version": "3.7.8"
  }
 },
 "nbformat": 4,
 "nbformat_minor": 2
}
