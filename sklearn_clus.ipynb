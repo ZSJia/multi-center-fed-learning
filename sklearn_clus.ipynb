{
 "cells": [
  {
   "cell_type": "code",
   "execution_count": 4,
   "id": "892da3a7",
   "metadata": {},
   "outputs": [
    {
     "name": "stdout",
     "output_type": "stream",
     "text": [
      "Collecting xlrd\n",
      "  Downloading xlrd-2.0.1-py2.py3-none-any.whl (96 kB)\n",
      "\u001b[K     |████████████████████████████████| 96 kB 3.9 MB/s eta 0:00:011\n",
      "\u001b[?25hInstalling collected packages: xlrd\n",
      "Successfully installed xlrd-2.0.1\n"
     ]
    }
   ],
   "source": [
    "!pip install xlrd"
   ]
  },
  {
   "cell_type": "code",
   "execution_count": 23,
   "id": "1ad6fdc7",
   "metadata": {},
   "outputs": [],
   "source": [
    "import pandas as pd\n",
    "import numpy as np\n",
    "import math"
   ]
  },
  {
   "cell_type": "code",
   "execution_count": 5,
   "id": "02b60802",
   "metadata": {},
   "outputs": [
    {
     "data": {
      "text/html": [
       "<div>\n",
       "<style scoped>\n",
       "    .dataframe tbody tr th:only-of-type {\n",
       "        vertical-align: middle;\n",
       "    }\n",
       "\n",
       "    .dataframe tbody tr th {\n",
       "        vertical-align: top;\n",
       "    }\n",
       "\n",
       "    .dataframe thead th {\n",
       "        text-align: right;\n",
       "    }\n",
       "</style>\n",
       "<table border=\"1\" class=\"dataframe\">\n",
       "  <thead>\n",
       "    <tr style=\"text-align: right;\">\n",
       "      <th></th>\n",
       "      <th>MouseID</th>\n",
       "      <th>DYRK1A_N</th>\n",
       "      <th>ITSN1_N</th>\n",
       "      <th>BDNF_N</th>\n",
       "      <th>NR1_N</th>\n",
       "      <th>NR2A_N</th>\n",
       "      <th>pAKT_N</th>\n",
       "      <th>pBRAF_N</th>\n",
       "      <th>pCAMKII_N</th>\n",
       "      <th>pCREB_N</th>\n",
       "      <th>...</th>\n",
       "      <th>pCFOS_N</th>\n",
       "      <th>SYP_N</th>\n",
       "      <th>H3AcK18_N</th>\n",
       "      <th>EGR1_N</th>\n",
       "      <th>H3MeK4_N</th>\n",
       "      <th>CaNA_N</th>\n",
       "      <th>Genotype</th>\n",
       "      <th>Treatment</th>\n",
       "      <th>Behavior</th>\n",
       "      <th>class</th>\n",
       "    </tr>\n",
       "  </thead>\n",
       "  <tbody>\n",
       "    <tr>\n",
       "      <th>0</th>\n",
       "      <td>309_1</td>\n",
       "      <td>0.503644</td>\n",
       "      <td>0.747193</td>\n",
       "      <td>0.430175</td>\n",
       "      <td>2.816329</td>\n",
       "      <td>5.990152</td>\n",
       "      <td>0.218830</td>\n",
       "      <td>0.177565</td>\n",
       "      <td>2.373744</td>\n",
       "      <td>0.232224</td>\n",
       "      <td>...</td>\n",
       "      <td>0.108336</td>\n",
       "      <td>0.427099</td>\n",
       "      <td>0.114783</td>\n",
       "      <td>0.131790</td>\n",
       "      <td>0.128186</td>\n",
       "      <td>1.675652</td>\n",
       "      <td>Control</td>\n",
       "      <td>Memantine</td>\n",
       "      <td>C/S</td>\n",
       "      <td>c-CS-m</td>\n",
       "    </tr>\n",
       "    <tr>\n",
       "      <th>1</th>\n",
       "      <td>309_2</td>\n",
       "      <td>0.514617</td>\n",
       "      <td>0.689064</td>\n",
       "      <td>0.411770</td>\n",
       "      <td>2.789514</td>\n",
       "      <td>5.685038</td>\n",
       "      <td>0.211636</td>\n",
       "      <td>0.172817</td>\n",
       "      <td>2.292150</td>\n",
       "      <td>0.226972</td>\n",
       "      <td>...</td>\n",
       "      <td>0.104315</td>\n",
       "      <td>0.441581</td>\n",
       "      <td>0.111974</td>\n",
       "      <td>0.135103</td>\n",
       "      <td>0.131119</td>\n",
       "      <td>1.743610</td>\n",
       "      <td>Control</td>\n",
       "      <td>Memantine</td>\n",
       "      <td>C/S</td>\n",
       "      <td>c-CS-m</td>\n",
       "    </tr>\n",
       "    <tr>\n",
       "      <th>2</th>\n",
       "      <td>309_3</td>\n",
       "      <td>0.509183</td>\n",
       "      <td>0.730247</td>\n",
       "      <td>0.418309</td>\n",
       "      <td>2.687201</td>\n",
       "      <td>5.622059</td>\n",
       "      <td>0.209011</td>\n",
       "      <td>0.175722</td>\n",
       "      <td>2.283337</td>\n",
       "      <td>0.230247</td>\n",
       "      <td>...</td>\n",
       "      <td>0.106219</td>\n",
       "      <td>0.435777</td>\n",
       "      <td>0.111883</td>\n",
       "      <td>0.133362</td>\n",
       "      <td>0.127431</td>\n",
       "      <td>1.926427</td>\n",
       "      <td>Control</td>\n",
       "      <td>Memantine</td>\n",
       "      <td>C/S</td>\n",
       "      <td>c-CS-m</td>\n",
       "    </tr>\n",
       "  </tbody>\n",
       "</table>\n",
       "<p>3 rows × 82 columns</p>\n",
       "</div>"
      ],
      "text/plain": [
       "  MouseID  DYRK1A_N   ITSN1_N    BDNF_N     NR1_N    NR2A_N    pAKT_N  \\\n",
       "0   309_1  0.503644  0.747193  0.430175  2.816329  5.990152  0.218830   \n",
       "1   309_2  0.514617  0.689064  0.411770  2.789514  5.685038  0.211636   \n",
       "2   309_3  0.509183  0.730247  0.418309  2.687201  5.622059  0.209011   \n",
       "\n",
       "    pBRAF_N  pCAMKII_N   pCREB_N  ...   pCFOS_N     SYP_N  H3AcK18_N  \\\n",
       "0  0.177565   2.373744  0.232224  ...  0.108336  0.427099   0.114783   \n",
       "1  0.172817   2.292150  0.226972  ...  0.104315  0.441581   0.111974   \n",
       "2  0.175722   2.283337  0.230247  ...  0.106219  0.435777   0.111883   \n",
       "\n",
       "     EGR1_N  H3MeK4_N    CaNA_N  Genotype  Treatment  Behavior   class  \n",
       "0  0.131790  0.128186  1.675652   Control  Memantine       C/S  c-CS-m  \n",
       "1  0.135103  0.131119  1.743610   Control  Memantine       C/S  c-CS-m  \n",
       "2  0.133362  0.127431  1.926427   Control  Memantine       C/S  c-CS-m  \n",
       "\n",
       "[3 rows x 82 columns]"
      ]
     },
     "execution_count": 5,
     "metadata": {},
     "output_type": "execute_result"
    }
   ],
   "source": [
    "file = r'Data_Cortex_Nuclear.xls'\n",
    "df = pd.read_excel(file)\n",
    "df.head(3)"
   ]
  },
  {
   "cell_type": "code",
   "execution_count": 16,
   "id": "9d85dd47",
   "metadata": {},
   "outputs": [
    {
     "name": "stdout",
     "output_type": "stream",
     "text": [
      "(1080, 77)\n"
     ]
    }
   ],
   "source": [
    "rm_cols = [\"MouseID\", \"Genotype\", \"Treatment\", \"Behavior\", \"class\"]\n",
    "cols = [x for x in df.columns if x not in rm_cols]\n",
    "df_float = df[cols]\n",
    "print(df_float.shape)"
   ]
  },
  {
   "cell_type": "code",
   "execution_count": null,
   "id": "2dd0a525",
   "metadata": {},
   "outputs": [],
   "source": []
  },
  {
   "cell_type": "code",
   "execution_count": 31,
   "id": "26561bc9",
   "metadata": {},
   "outputs": [
    {
     "name": "stdout",
     "output_type": "stream",
     "text": [
      "Data for Modeling: (525, 77)\n",
      "Unseen Data For Predictions: (27, 77)\n"
     ]
    }
   ],
   "source": [
    "frac = 0.95\n",
    "df_null = df_float.dropna()\n",
    "data = df_null.sample(n=math.ceil(len(df_null) * frac), random_state=786)\n",
    "data_unseen = df_null.drop(data.index)\n",
    "\n",
    "data.reset_index(drop=True, inplace=True)\n",
    "data_unseen.reset_index(drop=True, inplace=True)\n",
    "\n",
    "print('Data for Modeling: ' + str(data.shape))\n",
    "print('Unseen Data For Predictions: ' + str(data_unseen.shape))"
   ]
  },
  {
   "cell_type": "code",
   "execution_count": 33,
   "id": "9ade5241",
   "metadata": {},
   "outputs": [
    {
     "data": {
      "text/plain": [
       "array([2, 2, 1, 2, 2, 2, 3, 1, 1, 3, 3, 2, 1, 3, 0, 0, 0, 2, 2, 2, 2, 0,\n",
       "       2, 2, 2, 3, 0, 1, 1, 2, 3, 1, 2, 1, 3, 1, 3, 2, 2, 1, 0, 3, 0, 1,\n",
       "       2, 0, 3, 1, 2, 1, 0, 3, 2, 1, 1, 3, 0, 2, 0, 2, 1, 1, 1, 1, 0, 2,\n",
       "       2, 2, 1, 2, 2, 3, 1, 0, 3, 0, 1, 2, 2, 1, 2, 0, 1, 2, 2, 2, 1, 1,\n",
       "       1, 2, 1, 3, 2, 1, 3, 0, 2, 1, 1, 1, 0, 1, 2, 1, 3, 3, 1, 2, 0, 1,\n",
       "       2, 0, 1, 3, 1, 2, 1, 0, 3, 3, 1, 3, 2, 1, 3, 2, 2, 3, 3, 1, 3, 0,\n",
       "       2, 1, 0, 2, 2, 2, 2, 2, 2, 1, 0, 0, 3, 3, 2, 1, 1, 1, 3, 0, 3, 2,\n",
       "       1, 1, 2, 3, 1, 1, 1, 1, 2, 2, 0, 3, 3, 1, 1, 2, 1, 3, 2, 1, 1, 3,\n",
       "       2, 1, 2, 1, 1, 1, 0, 3, 1, 3, 2, 1, 1, 2, 1, 2, 1, 2, 0, 3, 0, 1,\n",
       "       3, 2, 3, 0, 0, 1, 3, 1, 0, 2, 3, 2, 1, 2, 0, 3, 1, 0, 2, 3, 0, 3,\n",
       "       3, 3, 3, 2, 3, 3, 1, 2, 2, 2, 2, 3, 0, 0, 3, 3, 3, 1, 1, 1, 2, 1,\n",
       "       3, 3, 1, 2, 3, 1, 3, 1, 0, 1, 3, 1, 3, 2, 1, 2, 2, 2, 1, 1, 2, 1,\n",
       "       3, 2, 1, 3, 1, 1, 1, 1, 0, 1, 2, 1, 1, 2, 1, 0, 3, 1, 2, 1, 3, 2,\n",
       "       1, 2, 3, 3, 0, 2, 1, 3, 3, 3, 3, 3, 1, 2, 3, 1, 2, 2, 1, 1, 1, 1,\n",
       "       0, 2, 3, 2, 3, 3, 0, 1, 1, 2, 2, 3, 0, 1, 1, 3, 2, 1, 2, 2, 3, 1,\n",
       "       2, 0, 2, 1, 1, 3, 2, 0, 2, 3, 3, 3, 1, 1, 1, 1, 2, 1, 0, 2, 1, 1,\n",
       "       3, 0, 1, 3, 1, 2, 0, 2, 1, 2, 1, 0, 1, 1, 3, 1, 3, 3, 3, 0, 0, 2,\n",
       "       1, 2, 2, 0, 2, 2, 0, 3, 1, 3, 0, 1, 2, 2, 0, 1, 3, 2, 3, 3, 2, 2,\n",
       "       3, 2, 0, 3, 2, 1, 1, 1, 0, 3, 2, 3, 1, 1, 2, 3, 1, 0, 1, 0, 3, 2,\n",
       "       0, 1, 3, 1, 0, 1, 3, 1, 2, 3, 3, 2, 3, 3, 1, 1, 3, 1, 2, 0, 1, 3,\n",
       "       1, 2, 3, 2, 2, 3, 2, 0, 2, 2, 2, 0, 3, 0, 1, 1, 2, 2, 0, 2, 1, 1,\n",
       "       2, 1, 3, 2, 0, 3, 3, 3, 3, 3, 3, 1, 1, 2, 3, 1, 2, 2, 2, 3, 2, 0,\n",
       "       0, 1, 1, 0, 2, 1, 2, 0, 0, 3, 1, 2, 3, 0, 1, 0, 2, 1, 3, 1, 3, 3,\n",
       "       1, 0, 3, 2, 3, 1, 2, 1, 0, 0, 3, 3, 2, 3, 2, 0, 3, 1, 2],\n",
       "      dtype=int32)"
      ]
     },
     "execution_count": 33,
     "metadata": {},
     "output_type": "execute_result"
    }
   ],
   "source": [
    "from sklearn.cluster import KMeans\n",
    "\n",
    "kmeans = KMeans(n_clusters=4).fit(data)\n",
    "kmeans.labels_"
   ]
  },
  {
   "cell_type": "code",
   "execution_count": 36,
   "id": "e9d14c44",
   "metadata": {},
   "outputs": [
    {
     "name": "stdout",
     "output_type": "stream",
     "text": [
      "1357.8950283752868\n"
     ]
    }
   ],
   "source": [
    "print(kmeans.inertia_)"
   ]
  },
  {
   "cell_type": "code",
   "execution_count": null,
   "id": "5d6d87c4",
   "metadata": {},
   "outputs": [],
   "source": []
  }
 ],
 "metadata": {
  "environment": {
   "name": "tf2-gpu.2-3.m78",
   "type": "gcloud",
   "uri": "gcr.io/deeplearning-platform-release/tf2-gpu.2-3:m78"
  },
  "kernelspec": {
   "display_name": "mlenv",
   "language": "python",
   "name": "mlenv"
  },
  "language_info": {
   "codemirror_mode": {
    "name": "ipython",
    "version": 3
   },
   "file_extension": ".py",
   "mimetype": "text/x-python",
   "name": "python",
   "nbconvert_exporter": "python",
   "pygments_lexer": "ipython3",
   "version": "3.7.10"
  }
 },
 "nbformat": 4,
 "nbformat_minor": 5
}
