{
 "cells": [
  {
   "cell_type": "code",
   "execution_count": 1,
   "metadata": {},
   "outputs": [
    {
     "name": "stdout",
     "output_type": "stream",
     "text": [
      "Overwriting modelsaver.py\n"
     ]
    }
   ],
   "source": [
    "%%writefile modelsaver.py\n",
    "import importlib\n",
    "import numpy as np\n",
    "import os\n",
    "import sys\n",
    "import random\n",
    "import pickle\n",
    "import tensorflow as tf\n",
    "import metrics.writer as metrics_writer\n",
    "\n",
    "from baseline_constants import MAIN_PARAMS, MODEL_PARAMS\n",
    "from client import Client\n",
    "from server import Server\n",
    "from model import ServerModel\n",
    "from utils.constants import DATASETS\n",
    "\n",
    "\n",
    "STAT_METRICS_PATH = 'metrics/stat_metrics.csv'\n",
    "SYS_METRICS_PATH = 'metrics/sys_metrics.csv'\n",
    "\n",
    "def online(clients):\n",
    "    \"\"\"We assume all users are always online.\"\"\"\n",
    "    return clients\n",
    "\n",
    "def save_model(server_model, dataset, model):\n",
    "    \"\"\"Saves the given server model on checkpoints/dataset/model.ckpt.\"\"\"\n",
    "    # Save server model\n",
    "    ckpt_path = os.path.join('checkpoints', dataset)\n",
    "    if not os.path.exists(ckpt_path):\n",
    "        os.makedirs(ckpt_path)\n",
    "    save_path = server_model.save(os.path.join(ckpt_path, '%s.ckpt' % model))\n",
    "    print('Model saved in path: %s' % save_path)\n",
    "\n",
    "\n",
    "def print_metrics(metrics, weights):\n",
    "    ordered_weights = [weights[c] for c in sorted(weights)]\n",
    "    metric_names = metrics_writer.get_metrics_names(metrics)\n",
    "    for metric in metric_names:\n",
    "        ordered_metric = [metrics[c][metric] for c in sorted(metrics)]\n",
    "        print('%s: %g, 10th percentile: %g, 90th percentile %g' \\\n",
    "              % (metric,\n",
    "                 np.average(ordered_metric, weights=ordered_weights),\n",
    "                 np.percentile(ordered_metric, 10),\n",
    "                 np.percentile(ordered_metric, 90)))\n",
    "\n",
    "class Model_Saver:\n",
    "    \n",
    "    def __init__(self, users, groups, train_data, test_data):\n",
    "        self.users = users\n",
    "        self.train_data = train_data\n",
    "        self.test_data = test_data\n",
    "        \n",
    "    def model_config(self, config, dataset, my_model):   \n",
    "        shared_model = my_model\n",
    "        model_path = '%s/%s.py' % (dataset, shared_model)\n",
    "        if not os.path.exists(model_path):\n",
    "            print('Please specify a valid dataset and a valid model.')\n",
    "        model_path = '%s.%s' % (dataset, shared_model)\n",
    "\n",
    "        print('############################## %s ##############################' % model_path)\n",
    "        mod = importlib.import_module(model_path)\n",
    "        ClientModel = getattr(mod, 'ClientModel')  \n",
    "        # Suppress tf warnings\n",
    "        tf.logging.set_verbosity(tf.logging.WARN)\n",
    "\n",
    "        # Create 2 models\n",
    "        model_params = MODEL_PARAMS[model_path]\n",
    "        model_params_list = list(model_params)\n",
    "        model_params_list.insert(0, config[\"seed\"])\n",
    "        model_params_list[1] = config[\"lr\"] \n",
    "        model_params = tuple(model_params_list)\n",
    "        tf.reset_default_graph()\n",
    "        client_model = ClientModel(*model_params)\n",
    "\n",
    "        # Create server\n",
    "        server = Server(client_model)\n",
    "\n",
    "        # Create clients\n",
    "        _users = self.users\n",
    "        groups = [[] for _ in _users]\n",
    "        clients =  [Client(u, g, self.train_data[u], self.test_data[u], client_model) \\\n",
    "                    for u, g in zip(_users, groups)]\n",
    "        print('%d Clients in Total' % len(clients)) \n",
    "        return clients, server, client_model\n",
    "    \n",
    "    def save_clients(self, server, num_rounds, dataset):\n",
    "        batched = []\n",
    "        update = server.updates[0]\n",
    "        if (dataset == \"femnist\"):\n",
    "            dense_pos = 4\n",
    "        else:\n",
    "            dense_pos = len(update[1]) -2\n",
    "        w_dense_shape = np.array(update[1][dense_pos]).shape\n",
    "        print(w_dense_shape)\n",
    "        for client, update in zip(server.selected_clients, server.updates):\n",
    "            name = client.id\n",
    "            w_dense = np.array(update[1][dense_pos])\n",
    "            tup = (name, w_dense)\n",
    "            batched.append(tup)\n",
    "        \n",
    "        saver_path = os.path.join('saver', dataset)\n",
    "        if not os.path.exists(saver_path):\n",
    "            os.makedirs(saver_path)\n",
    "        with open(os.path.join(saver_path, \"clients_dense_r{}.pb\".format(num_rounds)), \"wb+\") as f:\n",
    "            pickle.dump(batched, f)\n",
    "        print(\"--- clients parameter saved. ---\")\n",
    "    \n",
    "    def begins(self, config, args):\n",
    "        clients, server, client_model = self.model_config(config, args.dataset, 'cnn')  \n",
    "    \n",
    "        num_rounds = config[\"num-rounds\"]\n",
    "        eval_every = config[\"eval-every\"]\n",
    "        epochs_per_round = config['epochs']\n",
    "        batch_size = config['batch-size']\n",
    "        clients_per_round = config[\"clients-per-round\"]\n",
    "        \n",
    "        # Test untrained model on all clients\n",
    "        stat_metrics = server.test_model(clients)\n",
    "        all_ids, all_groups, all_num_samples = server.get_clients_info(clients)\n",
    "#         metrics_writer.print_metrics(0, all_ids, stat_metrics, all_groups, all_num_samples, STAT_METRICS_PATH)\n",
    "        print_metrics(stat_metrics, all_num_samples)\n",
    "\n",
    "        # Simulate training\n",
    "        for i in range(num_rounds):\n",
    "            print('--- Round %d of %d: Training %d Clients ---' % (i+1, num_rounds, clients_per_round))\n",
    "\n",
    "            server.select_clients(online(clients), num_clients=clients_per_round)\n",
    "            c_ids, c_groups, c_num_samples = server.get_clients_info(None)\n",
    "\n",
    "            sys_metics = server.train_model(single_center=None, num_epochs=epochs_per_round, batch_size=batch_size, minibatch=None)            \n",
    "            server.update_model_wmode()\n",
    "\n",
    "            # Test model on all clients\n",
    "            if (i + 1) % eval_every == 0 or (i + 1) == num_rounds:\n",
    "                stat_metrics = server.test_model(clients)\n",
    "                print_metrics(stat_metrics, all_num_samples)\n",
    "\n",
    "        # Save server model\n",
    "        save_path = os.path.join(\"checkpoints\", args.dataset)\n",
    "        server.save_model(save_path)\n",
    "\n",
    "        # Close models\n",
    "    #     server_model.close()\n",
    "        sys_metics = server.train_model(single_center=None, num_epochs=epochs_per_round, batch_size=batch_size, minibatch=None)\n",
    "        self.save_clients(server, num_rounds, args.dataset)\n",
    "        client_model.close()\n",
    "        return 0\n",
    "    \n",
    "    def ends(self):\n",
    "        print(\"experiment of Modelsaver finished.\")\n",
    "        return"
   ]
  },
  {
   "cell_type": "code",
   "execution_count": 44,
   "metadata": {
    "scrolled": true
   },
   "outputs": [
    {
     "name": "stdout",
     "output_type": "stream",
     "text": [
      "[[-0.00050113 -0.09771717]\n",
      " [-0.04221179 -0.00448437]\n",
      " [-0.02134346  0.0222938 ]\n",
      " [ 0.01128088 -0.00399774]\n",
      " [-0.0592134   0.00720416]\n",
      " [ 0.00083188 -0.04293957]\n",
      " [-0.05162663  0.12163562]\n",
      " [-0.02891766 -0.07293008]\n",
      " [ 0.23980403  0.0289254 ]\n",
      " [-0.04810263  0.04201   ]]\n",
      "[[-0.00802132 -0.00205088]]\n",
      "00-distant to center=0.09208590723574162\n",
      "01-distant to center=0.011749096447601914\n",
      "02-distant to center=0.007701432332396507\n",
      "03-distant to center=0.003763650602195412\n",
      "04-distant to center=0.0270628510043025\n",
      "05-distant to center=0.017502635018900037\n",
      "06-distant to center=0.17199773341417313\n",
      "07-distant to center=0.05460517946630716\n",
      "08-distant to center=0.6237693503499031\n",
      "09-distant to center=0.03547872882336378\n"
     ]
    },
    {
     "data": {
      "text/plain": [
       "<function matplotlib.pyplot.show(close=None, block=None)>"
      ]
     },
     "execution_count": 44,
     "metadata": {},
     "output_type": "execute_result"
    },
    {
     "data": {
      "image/png": "[encoded data removed]",
      "text/plain": [
       "<Figure size 432x288 with 1 Axes>"
      ]
     },
     "metadata": {
      "needs_background": "light"
     },
     "output_type": "display_data"
    }
   ],
   "source": [
    "# %%writefile clus_vis.py\n",
    "import os\n",
    "import pickle\n",
    "import numpy as np\n",
    "import scipy\n",
    "\n",
    "from sklearn.decomposition import PCA\n",
    "from sklearn.manifold import TSNE\n",
    "from scipy.spatial import distance\n",
    "\n",
    "saver_path = os.path.join('saver', 'femnist')\n",
    "pk_path = os.path.join(saver_path, 'clients_dense_r100.pb')\n",
    "\n",
    "with open(pk_path, 'rb') as f:\n",
    "    data = pickle.load(f)\n",
    "    \n",
    "array = np.array([ i[1] for i in data])\n",
    "tmp_arr = array.reshape((len(data), -1))\n",
    "# m = np.median(tmp_arr, axis=0)\n",
    "m = scipy.stats.trim_mean(tmp_arr, 0.1, axis=0)\n",
    "\n",
    "pca_2 = PCA(n_components =2)\n",
    "tsne = TSNE(n_components=2, perplexity=200)\n",
    "\n",
    "conv_x = pca_2.fit_transform(tmp_arr)\n",
    "print(conv_x)\n",
    "# conv_x[3][1] = -0.0020545\n",
    "# conv_x[9][1] = 0.04606113\n",
    "\n",
    "import matplotlib.pyplot as plt\n",
    "\n",
    "x = [pos[0] for pos in conv_x]\n",
    "y = [pos[1] for pos in conv_x]\n",
    "center = pca_2.transform(m.reshape((1, tmp_arr.shape[1])))\n",
    "print(center)\n",
    "for i, point in enumerate(conv_x):\n",
    "    print(\"{:02d}-distant to center={}\".format(i, distance.sqeuclidean(point, center) * 10))\n",
    "plt.scatter(x, y)\n",
    "plt.scatter(center[0][0], center[0][1], marker='v', color='r')\n",
    "# plt.scatter(center[0], center[1], marker='v', color='r')\n",
    "plt.show"
   ]
  },
  {
   "cell_type": "code",
   "execution_count": 46,
   "metadata": {},
   "outputs": [
    {
     "name": "stdout",
     "output_type": "stream",
     "text": [
      "['f2156_56', 'f3932_35', 'f1799_27', 'f3380_04', 'f3216_33', 'f1741_16', 'f3258_46', 'f1568_21', 'f0095_41', 'f3442_00']\n"
     ]
    }
   ],
   "source": [
    "##### clients = [ i[0] for i in data]\n",
    "print(clients)"
   ]
  },
  {
   "cell_type": "code",
   "execution_count": 40,
   "metadata": {},
   "outputs": [],
   "source": [
    "import csv\n",
    "\n",
    "wrtr = csv.writer(open(\"./dense_reduction.csv\",\"w\"))\n",
    "for x in conv_x:\n",
    "    wrtr.writerow( [ str(x[0]), str(x[1]) ])"
   ]
  }
 ],
 "metadata": {
  "environment": {
   "name": "tf2-gpu.2-3.m78",
   "type": "gcloud",
   "uri": "gcr.io/deeplearning-platform-release/tf2-gpu.2-3:m78"
  },
  "kernelspec": {
   "display_name": "Python 3",
   "language": "python",
   "name": "python3"
  },
  "language_info": {
   "codemirror_mode": {
    "name": "ipython",
    "version": 3
   },
   "file_extension": ".py",
   "mimetype": "text/x-python",
   "name": "python",
   "nbconvert_exporter": "python",
   "pygments_lexer": "ipython3",
   "version": "3.7.10"
  }
 },
 "nbformat": 4,
 "nbformat_minor": 4
}
