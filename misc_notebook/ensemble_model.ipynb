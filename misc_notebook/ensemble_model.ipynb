{
 "cells": [
  {
   "cell_type": "code",
   "execution_count": 1,
   "metadata": {
    "collapsed": true
   },
   "outputs": [],
   "source": [
    "import numpy as np\n",
    "import tensorflow as tf\n",
    "import importlib\n",
    "\n",
    "import random\n",
    "import os\n",
    "import sys\n",
    "\n",
    "from client import Client\n",
    "from utils.args import parse_args\n",
    "from utils.model_utils import read_data\n",
    "from utils.baseline_constants import ACCURACY_KEY"
   ]
  },
  {
   "cell_type": "code",
   "execution_count": 20,
   "metadata": {
    "collapsed": true
   },
   "outputs": [],
   "source": [
    "def get_card(a):\n",
    "    return np.bincount(a).argmax()\n",
    "\n",
    "# using hard-voting for now\n",
    "def get_vote(x):\n",
    "    a = x.transpose()\n",
    "    b = np.apply_along_axis(get_card, 1, a)\n",
    "    return b.reshape(-1)\n",
    "    \n",
    "def setup_clients(dataset, model=None, use_val_set=False):\n",
    "    eval_set = 'test' if not use_val_set else 'val'\n",
    "    train_data_dir = os.path.join('data', dataset, 'data', 'train')\n",
    "    test_data_dir = os.path.join('data', dataset, 'data', eval_set)\n",
    "\n",
    "    users, groups, train_data, test_data = read_data(train_data_dir, test_data_dir)\n",
    "    if len(groups) == 0:\n",
    "        groups = [[] for _ in users]    \n",
    "    clients = [Client(u, g, train_data[u], test_data[u], model) for u, g in zip(users, groups)]\n",
    "\n",
    "    return clients, train_data, test_data\n",
    "\n"
   ]
  },
  {
   "cell_type": "code",
   "execution_count": 21,
   "metadata": {},
   "outputs": [
    {
     "name": "stdout",
     "output_type": "stream",
     "text": [
      "############################## femnist.cnn ##############################\n"
     ]
    }
   ],
   "source": [
    "model_path = '%s.%s' % (\"femnist\", \"cnn\")\n",
    "print('############################## %s ##############################' % model_path)\n",
    "mod = importlib.import_module(model_path)\n",
    "ClientModel = getattr(mod, 'ClientModel')\n",
    "\n"
   ]
  },
  {
   "cell_type": "code",
   "execution_count": 27,
   "metadata": {},
   "outputs": [
    {
     "name": "stdout",
     "output_type": "stream",
     "text": [
      "INFO:tensorflow:Restoring parameters from ../fedmc/models/checkpoints/femnist/K-5/K5-C1.ckpt\n",
      "INFO:tensorflow:Restoring parameters from ../fedmc/models/checkpoints/femnist/K-5/K5-C2.ckpt\n",
      "INFO:tensorflow:Restoring parameters from ../fedmc/models/checkpoints/femnist/K-5/K5-C3.ckpt\n",
      "INFO:tensorflow:Restoring parameters from ../fedmc/models/checkpoints/femnist/K-5/K5-C4.ckpt\n",
      "INFO:tensorflow:Restoring parameters from ../fedmc/models/checkpoints/femnist/K-5/K5-C5.ckpt\n"
     ]
    }
   ],
   "source": [
    "path = \"../fedmc/models/checkpoints/femnist\"\n",
    "\n",
    "K = 3\n",
    "lr = 0.01\n",
    "num_class = 62\n",
    "\n",
    "model_initlization = ClientModel(123456, lr, num_class)\n",
    "ens_models = []\n",
    "for i in range(K):\n",
    "    model = ClientModel(random.randint(1, 10000), lr, num_class)\n",
    "    model.load_ckp(os.path.join(path, \"K-{}\".format(K), \"K{}-C{}.ckpt\".format(K, i+1)))\n",
    "    ens_models.append(model)\n"
   ]
  },
  {
   "cell_type": "code",
   "execution_count": 9,
   "metadata": {
    "collapsed": true,
    "scrolled": true
   },
   "outputs": [],
   "source": [
    "clients, train_data, test_data = setup_clients(\"femnist\", model_initlization)\n",
    "# pred0 = ensemble0.test(clients[0].eval_data)[\"output\"]\n",
    "# pred1 = ensemble1.test(clients[0].eval_data)[\"output\"]\n",
    "# pred2 = ensemble2.test(clients[0].eval_data)[\"output\"]\n"
   ]
  },
  {
   "cell_type": "code",
   "execution_count": 23,
   "metadata": {
    "collapsed": true
   },
   "outputs": [],
   "source": [
    "def strong_learn_pred(idx):\n",
    "    outcome = ens_models[0].test(clients[idx].eval_data)[\"output\"]\n",
    "    for i in range(1, K):\n",
    "        pred = ens_models[i].test(clients[idx].eval_data)[\"output\"]\n",
    "        outcome = np.vstack([outcome, pred])\n",
    "    data = clients[idx].eval_data\n",
    "    labels = np.array(data[\"y\"])\n",
    "    correct = np.count_nonzero(np.equal(get_vote(outcome), labels))\n",
    "    return correct\n",
    "    \n",
    "def fine_tune_pred(idx, m_id):\n",
    "    model_initlization.set_params(ens_models[m_id].get_params())\n",
    "    clients[idx].train(5)\n",
    "    data = clients[idx].eval_data\n",
    "    labels = np.array(data[\"y\"])    \n",
    "    pred =  model_initlization.test(clients[idx].eval_data)[\"output\"]\n",
    "    correct = np.count_nonzero(np.equal(pred, labels))\n",
    "    return correct   "
   ]
  },
  {
   "cell_type": "code",
   "execution_count": 11,
   "metadata": {},
   "outputs": [
    {
     "ename": "NameError",
     "evalue": "name 'a' is not defined",
     "output_type": "error",
     "traceback": [
      "\u001b[0;31m---------------------------------------------------------------------------\u001b[0m",
      "\u001b[0;31mNameError\u001b[0m                                 Traceback (most recent call last)",
      "\u001b[0;32m<ipython-input-11-1a6ce105a6f9>\u001b[0m in \u001b[0;36m<module>\u001b[0;34m\u001b[0m\n\u001b[0;32m----> 1\u001b[0;31m \u001b[0mcorrect\u001b[0m \u001b[0;34m=\u001b[0m \u001b[0mnp\u001b[0m\u001b[0;34m.\u001b[0m\u001b[0mcount_nonzero\u001b[0m\u001b[0;34m(\u001b[0m\u001b[0mnp\u001b[0m\u001b[0;34m.\u001b[0m\u001b[0mequal\u001b[0m\u001b[0;34m(\u001b[0m\u001b[0mget_vote\u001b[0m\u001b[0;34m(\u001b[0m\u001b[0ma\u001b[0m\u001b[0;34m)\u001b[0m\u001b[0;34m,\u001b[0m \u001b[0mlabels\u001b[0m\u001b[0;34m)\u001b[0m\u001b[0;34m)\u001b[0m\u001b[0;34m\u001b[0m\u001b[0;34m\u001b[0m\u001b[0m\n\u001b[0m\u001b[1;32m      2\u001b[0m \u001b[0mcorrect\u001b[0m\u001b[0;34m\u001b[0m\u001b[0;34m\u001b[0m\u001b[0m\n",
      "\u001b[0;31mNameError\u001b[0m: name 'a' is not defined"
     ]
    }
   ],
   "source": [
    "correct = np.count_nonzero(np.equal(get_vote(a), labels))\n",
    "correct"
   ]
  },
  {
   "cell_type": "markdown",
   "metadata": {},
   "source": [
    "# evalation on K=3"
   ]
  },
  {
   "cell_type": "code",
   "execution_count": 24,
   "metadata": {
    "scrolled": true
   },
   "outputs": [
    {
     "name": "stdout",
     "output_type": "stream",
     "text": [
      "5502\n",
      "5603\n"
     ]
    }
   ],
   "source": [
    "sum_ens = 0\n",
    "sum_fin = 0\n",
    "for n,c in enumerate(clients[:100]):\n",
    "    data = clients[n].eval_data\n",
    "    labels = np.array(data[\"y\"])\n",
    "    #print(c.id, \",total:\", len(labels))\n",
    "    sum_ens += strong_learn_pred(n)\n",
    "    tmp_list_fine = [fine_tune_pred(n, i) for i in range(K)]\n",
    "    sum_fin += np.max(tmp_list_fine)\n",
    "    \n",
    "print(sum_ens)\n",
    "print(sum_fin)"
   ]
  },
  {
   "cell_type": "markdown",
   "metadata": {},
   "source": [
    "# evalation on K=4"
   ]
  },
  {
   "cell_type": "code",
   "execution_count": 26,
   "metadata": {},
   "outputs": [
    {
     "name": "stdout",
     "output_type": "stream",
     "text": [
      "5128\n",
      "5319\n"
     ]
    }
   ],
   "source": [
    "sum_ens = 0\n",
    "sum_fin = 0\n",
    "for n,c in enumerate(clients[:100]):\n",
    "    sum_ens += strong_learn_pred(n)\n",
    "    tmp_list_fine = [fine_tune_pred(n, i) for i in range(K)]\n",
    "    sum_fin += np.max(tmp_list_fine)\n",
    "    \n",
    "print(sum_ens)\n",
    "print(sum_fin)"
   ]
  },
  {
   "cell_type": "markdown",
   "metadata": {},
   "source": [
    "# evalation on K=5"
   ]
  },
  {
   "cell_type": "code",
   "execution_count": 28,
   "metadata": {},
   "outputs": [
    {
     "name": "stdout",
     "output_type": "stream",
     "text": [
      "5322\n",
      "5599\n"
     ]
    }
   ],
   "source": [
    "sum_ens = 0\n",
    "sum_fin = 0\n",
    "for n,c in enumerate(clients[:100]):\n",
    "    sum_ens += strong_learn_pred(n)\n",
    "    tmp_list_fine = [fine_tune_pred(n, i) for i in range(K)]\n",
    "    sum_fin += np.max(tmp_list_fine)\n",
    "    \n",
    "print(sum_ens)\n",
    "print(sum_fin)"
   ]
  },
  {
   "cell_type": "markdown",
   "metadata": {},
   "source": [
    "# evalation on K=6"
   ]
  },
  {
   "cell_type": "code",
   "execution_count": 66,
   "metadata": {},
   "outputs": [
    {
     "name": "stdout",
     "output_type": "stream",
     "text": [
      "5181\n",
      "4895\n"
     ]
    }
   ],
   "source": [
    "sum_ens = 0\n",
    "sum_fin = 0\n",
    "for n,c in enumerate(clients[:100]):\n",
    "    sum_ens += strong_learn_pred(n)\n",
    "    sum_fin += fine_tune_pred(n)\n",
    "    \n",
    "print(sum_ens)\n",
    "print(sum_fin)"
   ]
  },
  {
   "cell_type": "markdown",
   "metadata": {},
   "source": [
    "# evaluation on K=7"
   ]
  },
  {
   "cell_type": "code",
   "execution_count": 68,
   "metadata": {},
   "outputs": [
    {
     "name": "stdout",
     "output_type": "stream",
     "text": [
      "5226\n",
      "5359\n"
     ]
    }
   ],
   "source": [
    "sum_ens = 0\n",
    "sum_fin = 0\n",
    "for n,c in enumerate(clients[:100]):\n",
    "    sum_ens += strong_learn_pred(n)\n",
    "    sum_fin += fine_tune_pred(n)\n",
    "    \n",
    "print(sum_ens)\n",
    "print(sum_fin)"
   ]
  },
  {
   "cell_type": "markdown",
   "metadata": {},
   "source": [
    "# evaluation on K=8"
   ]
  },
  {
   "cell_type": "code",
   "execution_count": null,
   "metadata": {
    "collapsed": true
   },
   "outputs": [],
   "source": [
    "sum_ens = 0\n",
    "sum_fin = 0\n",
    "for n,c in enumerate(clients[:100]):\n",
    "    sum_ens += strong_learn_pred(n)\n",
    "    sum_fin += fine_tune_pred(n)\n",
    "    \n",
    "print(sum_ens)\n",
    "print(sum_fin)"
   ]
  }
 ],
 "metadata": {
  "celltoolbar": "Tags",
  "kernelspec": {
   "display_name": "pysyft",
   "language": "python",
   "name": "pysyft"
  },
  "language_info": {
   "codemirror_mode": {
    "name": "ipython",
    "version": 3
   },
   "file_extension": ".py",
   "mimetype": "text/x-python",
   "name": "python",
   "nbconvert_exporter": "python",
   "pygments_lexer": "ipython3",
   "version": "3.7.7"
  }
 },
 "nbformat": 4,
 "nbformat_minor": 4
}
